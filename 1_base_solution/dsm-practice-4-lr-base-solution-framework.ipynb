{
 "cells": [
  {
   "cell_type": "markdown",
   "id": "4e4e274a",
   "metadata": {
    "papermill": {
     "duration": 0.005414,
     "end_time": "2022-10-27T04:04:16.147994",
     "exception": false,
     "start_time": "2022-10-27T04:04:16.142580",
     "status": "completed"
    },
    "tags": []
   },
   "source": [
    "<a href=\"https://www.kaggle.com/code/funxexcel/p1-lr-base-solution-framework?scriptVersionId=109244171\" target=\"_blank\"><img align=\"left\" alt=\"Kaggle\" title=\"Open in Kaggle\" src=\"https://kaggle.com/static/images/open-in-kaggle.svg\"></a>"
   ]
  },
  {
   "cell_type": "markdown",
   "id": "94b9ccaf",
   "metadata": {
    "papermill": {
     "duration": 0.005821,
     "end_time": "2022-10-27T04:04:16.158358",
     "exception": false,
     "start_time": "2022-10-27T04:04:16.152537",
     "status": "completed"
    },
    "tags": []
   },
   "source": [
    "# Logistic Regression Base Solution Framework\n",
    "- 1/ Import Libraries\n",
    "- 2/ Import Data - train data(multiple), test data, combo of data( linked with ID )\n",
    "    - CSV (Delimited), Excel, Server(SQL Server, SQL, Oracle, Azure, AWS), JSON\n",
    "- 3/ 3/ Check Features (columns) and their Data Types\n",
    "- 4/ Split columns - into X and y \n",
    "- 5/ Split Data into train & test\n",
    "- 6/ Data Transformation\n",
    "    - Encoding Categorical Columns - Dummy *\n",
    "    - Numerical Transformation (not compulsary)\n",
    "- 7/ Build Model (train data) - Logistic Regression\n",
    "    - 1/ Initiation an Instance\n",
    "    - 2/ Fit Model - X_train, y_train\n",
    "- 8/ Make Predictions\n",
    "    - Predict y for Train Data (Bias)\n",
    "    - Predict y for Test Data (Variance)\n",
    "- 9/ Calculate Performance Metrics\n",
    "    - Accuracy\n",
    "    - ROC AUC Curve\n",
    "    - F1 Score"
   ]
  },
  {
   "cell_type": "markdown",
   "id": "23fd556f",
   "metadata": {
    "papermill": {
     "duration": 0.004647,
     "end_time": "2022-10-27T04:04:16.169826",
     "exception": false,
     "start_time": "2022-10-27T04:04:16.165179",
     "status": "completed"
    },
    "tags": []
   },
   "source": [
    "# 1/ Import libraries"
   ]
  },
  {
   "cell_type": "code",
   "execution_count": 1,
   "id": "26912d9f",
   "metadata": {
    "execution": {
     "iopub.execute_input": "2022-10-27T04:04:16.183253Z",
     "iopub.status.busy": "2022-10-27T04:04:16.182077Z",
     "iopub.status.idle": "2022-10-27T04:04:16.188250Z",
     "shell.execute_reply": "2022-10-27T04:04:16.187412Z"
    },
    "papermill": {
     "duration": 0.016268,
     "end_time": "2022-10-27T04:04:16.191304",
     "exception": false,
     "start_time": "2022-10-27T04:04:16.175036",
     "status": "completed"
    },
    "tags": []
   },
   "outputs": [],
   "source": [
    "# Write code to import numpy, pandas\n",
    "\n",
    "\n",
    "# Write code to import train test split method\n",
    "\n",
    "\n",
    "# Write code to import logistic regression model\n",
    "\n",
    "\n",
    "# Write code to import classfication report\n",
    "\n"
   ]
  },
  {
   "cell_type": "markdown",
   "id": "4f8e6544",
   "metadata": {
    "papermill": {
     "duration": 0.005155,
     "end_time": "2022-10-27T04:04:16.202262",
     "exception": false,
     "start_time": "2022-10-27T04:04:16.197107",
     "status": "completed"
    },
    "tags": []
   },
   "source": [
    "# 2/ Import Data"
   ]
  },
  {
   "cell_type": "code",
   "execution_count": 2,
   "id": "f83f2937",
   "metadata": {
    "execution": {
     "iopub.execute_input": "2022-10-27T04:04:16.216571Z",
     "iopub.status.busy": "2022-10-27T04:04:16.215730Z",
     "iopub.status.idle": "2022-10-27T04:04:16.219222Z",
     "shell.execute_reply": "2022-10-27T04:04:16.218638Z"
    },
    "papermill": {
     "duration": 0.012238,
     "end_time": "2022-10-27T04:04:16.221123",
     "exception": false,
     "start_time": "2022-10-27T04:04:16.208885",
     "status": "completed"
    },
    "tags": []
   },
   "outputs": [],
   "source": [
    "# Write a code to import train and test data\n",
    "# If test data - does not exist import only train data\n",
    "# train = "
   ]
  },
  {
   "cell_type": "markdown",
   "id": "0efe572e",
   "metadata": {
    "papermill": {
     "duration": 0.004691,
     "end_time": "2022-10-27T04:04:16.231007",
     "exception": false,
     "start_time": "2022-10-27T04:04:16.226316",
     "status": "completed"
    },
    "tags": []
   },
   "source": [
    "# 3/ Check Features (columns) and their Data Types"
   ]
  },
  {
   "cell_type": "code",
   "execution_count": 3,
   "id": "b876b033",
   "metadata": {
    "execution": {
     "iopub.execute_input": "2022-10-27T04:04:16.243925Z",
     "iopub.status.busy": "2022-10-27T04:04:16.243505Z",
     "iopub.status.idle": "2022-10-27T04:04:16.248316Z",
     "shell.execute_reply": "2022-10-27T04:04:16.247191Z"
    },
    "papermill": {
     "duration": 0.015636,
     "end_time": "2022-10-27T04:04:16.251603",
     "exception": false,
     "start_time": "2022-10-27T04:04:16.235967",
     "status": "completed"
    },
    "tags": []
   },
   "outputs": [],
   "source": [
    "# Write a code to check the first 5 rows of the data\n"
   ]
  },
  {
   "cell_type": "code",
   "execution_count": 4,
   "id": "d914c581",
   "metadata": {
    "execution": {
     "iopub.execute_input": "2022-10-27T04:04:16.266003Z",
     "iopub.status.busy": "2022-10-27T04:04:16.265669Z",
     "iopub.status.idle": "2022-10-27T04:04:16.269050Z",
     "shell.execute_reply": "2022-10-27T04:04:16.268401Z"
    },
    "papermill": {
     "duration": 0.011528,
     "end_time": "2022-10-27T04:04:16.270943",
     "exception": false,
     "start_time": "2022-10-27T04:04:16.259415",
     "status": "completed"
    },
    "tags": []
   },
   "outputs": [],
   "source": [
    "# Write a code to check the data type for each columns\n"
   ]
  },
  {
   "cell_type": "markdown",
   "id": "ec30502a",
   "metadata": {
    "papermill": {
     "duration": 0.005398,
     "end_time": "2022-10-27T04:04:16.281289",
     "exception": false,
     "start_time": "2022-10-27T04:04:16.275891",
     "status": "completed"
    },
    "tags": []
   },
   "source": [
    "# 4/ Split columns into y and X datasets"
   ]
  },
  {
   "cell_type": "code",
   "execution_count": 5,
   "id": "3f660ccd",
   "metadata": {
    "execution": {
     "iopub.execute_input": "2022-10-27T04:04:16.292541Z",
     "iopub.status.busy": "2022-10-27T04:04:16.291905Z",
     "iopub.status.idle": "2022-10-27T04:04:16.296007Z",
     "shell.execute_reply": "2022-10-27T04:04:16.294795Z"
    },
    "papermill": {
     "duration": 0.012086,
     "end_time": "2022-10-27T04:04:16.298059",
     "exception": false,
     "start_time": "2022-10-27T04:04:16.285973",
     "status": "completed"
    },
    "tags": []
   },
   "outputs": [],
   "source": [
    "# Write code to hold target feature in y and all features except (ID features or features that hold unique values)\n",
    "# y = \n",
    "# X = "
   ]
  },
  {
   "cell_type": "markdown",
   "id": "6cea60fa",
   "metadata": {
    "papermill": {
     "duration": 0.004465,
     "end_time": "2022-10-27T04:04:16.307512",
     "exception": false,
     "start_time": "2022-10-27T04:04:16.303047",
     "status": "completed"
    },
    "tags": []
   },
   "source": [
    "# 5/ Split data into Train and Test split"
   ]
  },
  {
   "cell_type": "code",
   "execution_count": 6,
   "id": "15b52695",
   "metadata": {
    "execution": {
     "iopub.execute_input": "2022-10-27T04:04:16.318565Z",
     "iopub.status.busy": "2022-10-27T04:04:16.318185Z",
     "iopub.status.idle": "2022-10-27T04:04:16.322187Z",
     "shell.execute_reply": "2022-10-27T04:04:16.321166Z"
    },
    "papermill": {
     "duration": 0.011863,
     "end_time": "2022-10-27T04:04:16.323986",
     "exception": false,
     "start_time": "2022-10-27T04:04:16.312123",
     "status": "completed"
    },
    "tags": []
   },
   "outputs": [],
   "source": [
    "# Write a code to call the train_test_split function and partition y, X \n",
    "# into X_train, X_test, y_train, y_test\n",
    "# Do a 80% - 20% split\n",
    "# Use a random state of your choice\n"
   ]
  },
  {
   "cell_type": "markdown",
   "id": "355f832a",
   "metadata": {
    "papermill": {
     "duration": 0.005041,
     "end_time": "2022-10-27T04:04:16.333902",
     "exception": false,
     "start_time": "2022-10-27T04:04:16.328861",
     "status": "completed"
    },
    "tags": []
   },
   "source": [
    "# 6/ Data Transformation"
   ]
  },
  {
   "cell_type": "code",
   "execution_count": 7,
   "id": "4ea80fbe",
   "metadata": {
    "execution": {
     "iopub.execute_input": "2022-10-27T04:04:16.344620Z",
     "iopub.status.busy": "2022-10-27T04:04:16.344203Z",
     "iopub.status.idle": "2022-10-27T04:04:16.349039Z",
     "shell.execute_reply": "2022-10-27T04:04:16.347941Z"
    },
    "papermill": {
     "duration": 0.012331,
     "end_time": "2022-10-27T04:04:16.350884",
     "exception": false,
     "start_time": "2022-10-27T04:04:16.338553",
     "status": "completed"
    },
    "tags": []
   },
   "outputs": [],
   "source": [
    "# Write a code to get Dummy variables for X_train data \n",
    "\n",
    "\n",
    "# Write a code to get Dummy Variables for X_test data\n",
    "\n"
   ]
  },
  {
   "cell_type": "markdown",
   "id": "2af9f7a7",
   "metadata": {
    "papermill": {
     "duration": 0.004189,
     "end_time": "2022-10-27T04:04:16.359773",
     "exception": false,
     "start_time": "2022-10-27T04:04:16.355584",
     "status": "completed"
    },
    "tags": []
   },
   "source": [
    "# 7/ Build Model (train data) - Logistic Regression"
   ]
  },
  {
   "cell_type": "code",
   "execution_count": 8,
   "id": "03880350",
   "metadata": {
    "execution": {
     "iopub.execute_input": "2022-10-27T04:04:16.370642Z",
     "iopub.status.busy": "2022-10-27T04:04:16.370115Z",
     "iopub.status.idle": "2022-10-27T04:04:16.373712Z",
     "shell.execute_reply": "2022-10-27T04:04:16.373032Z"
    },
    "papermill": {
     "duration": 0.011088,
     "end_time": "2022-10-27T04:04:16.375430",
     "exception": false,
     "start_time": "2022-10-27T04:04:16.364342",
     "status": "completed"
    },
    "tags": []
   },
   "outputs": [],
   "source": [
    "# Write a code to create an Intance of Logistic Regression\n",
    "\n"
   ]
  },
  {
   "cell_type": "code",
   "execution_count": 9,
   "id": "14d5363f",
   "metadata": {
    "execution": {
     "iopub.execute_input": "2022-10-27T04:04:16.386701Z",
     "iopub.status.busy": "2022-10-27T04:04:16.385959Z",
     "iopub.status.idle": "2022-10-27T04:04:16.390054Z",
     "shell.execute_reply": "2022-10-27T04:04:16.389322Z"
    },
    "papermill": {
     "duration": 0.011933,
     "end_time": "2022-10-27T04:04:16.391926",
     "exception": false,
     "start_time": "2022-10-27T04:04:16.379993",
     "status": "completed"
    },
    "tags": []
   },
   "outputs": [],
   "source": [
    "# Write a code to Fit Logistic Regression\n",
    "\n"
   ]
  },
  {
   "cell_type": "markdown",
   "id": "58802d02",
   "metadata": {
    "papermill": {
     "duration": 0.004545,
     "end_time": "2022-10-27T04:04:16.401355",
     "exception": false,
     "start_time": "2022-10-27T04:04:16.396810",
     "status": "completed"
    },
    "tags": []
   },
   "source": [
    "# 8/ Make Predictions"
   ]
  },
  {
   "cell_type": "code",
   "execution_count": 10,
   "id": "5b443752",
   "metadata": {
    "execution": {
     "iopub.execute_input": "2022-10-27T04:04:16.412312Z",
     "iopub.status.busy": "2022-10-27T04:04:16.411752Z",
     "iopub.status.idle": "2022-10-27T04:04:16.416789Z",
     "shell.execute_reply": "2022-10-27T04:04:16.415294Z"
    },
    "papermill": {
     "duration": 0.013643,
     "end_time": "2022-10-27T04:04:16.419517",
     "exception": false,
     "start_time": "2022-10-27T04:04:16.405874",
     "status": "completed"
    },
    "tags": []
   },
   "outputs": [],
   "source": [
    "# Write a code to make predicitions on X_train data\n",
    "# y_train_predicted = \n",
    "\n",
    "# Write a code to make predicitions on X_test data\n",
    "# y_test_predicted = "
   ]
  },
  {
   "cell_type": "markdown",
   "id": "1e6e0419",
   "metadata": {
    "papermill": {
     "duration": 0.004628,
     "end_time": "2022-10-27T04:04:16.429227",
     "exception": false,
     "start_time": "2022-10-27T04:04:16.424599",
     "status": "completed"
    },
    "tags": []
   },
   "source": [
    "# 9/ Calculate Performance Metrics"
   ]
  },
  {
   "cell_type": "code",
   "execution_count": 11,
   "id": "e96f05f0",
   "metadata": {
    "execution": {
     "iopub.execute_input": "2022-10-27T04:04:16.440783Z",
     "iopub.status.busy": "2022-10-27T04:04:16.440430Z",
     "iopub.status.idle": "2022-10-27T04:04:16.444094Z",
     "shell.execute_reply": "2022-10-27T04:04:16.443006Z"
    },
    "papermill": {
     "duration": 0.011524,
     "end_time": "2022-10-27T04:04:16.445822",
     "exception": false,
     "start_time": "2022-10-27T04:04:16.434298",
     "status": "completed"
    },
    "tags": []
   },
   "outputs": [],
   "source": [
    "# Write a code to get the classification report (Train) for checking the performance\n"
   ]
  },
  {
   "cell_type": "code",
   "execution_count": 12,
   "id": "c851980b",
   "metadata": {
    "execution": {
     "iopub.execute_input": "2022-10-27T04:04:16.457237Z",
     "iopub.status.busy": "2022-10-27T04:04:16.456283Z",
     "iopub.status.idle": "2022-10-27T04:04:16.460716Z",
     "shell.execute_reply": "2022-10-27T04:04:16.459775Z"
    },
    "papermill": {
     "duration": 0.012363,
     "end_time": "2022-10-27T04:04:16.462947",
     "exception": false,
     "start_time": "2022-10-27T04:04:16.450584",
     "status": "completed"
    },
    "tags": []
   },
   "outputs": [],
   "source": [
    "# Write a code to get the classification report (Test) for checking the performance\n"
   ]
  },
  {
   "cell_type": "markdown",
   "id": "24247eb8",
   "metadata": {
    "papermill": {
     "duration": 0.004472,
     "end_time": "2022-10-27T04:04:16.472217",
     "exception": false,
     "start_time": "2022-10-27T04:04:16.467745",
     "status": "completed"
    },
    "tags": []
   },
   "source": [
    "# Did you overfit the model? - If so how can you say you have overfitted?"
   ]
  }
 ],
 "metadata": {
  "kernelspec": {
   "display_name": "Python 3",
   "language": "python",
   "name": "python3"
  },
  "language_info": {
   "codemirror_mode": {
    "name": "ipython",
    "version": 3
   },
   "file_extension": ".py",
   "mimetype": "text/x-python",
   "name": "python",
   "nbconvert_exporter": "python",
   "pygments_lexer": "ipython3",
   "version": "3.7.12"
  },
  "papermill": {
   "default_parameters": {},
   "duration": 10.286038,
   "end_time": "2022-10-27T04:04:17.097973",
   "environment_variables": {},
   "exception": null,
   "input_path": "__notebook__.ipynb",
   "output_path": "__notebook__.ipynb",
   "parameters": {},
   "start_time": "2022-10-27T04:04:06.811935",
   "version": "2.3.4"
  }
 },
 "nbformat": 4,
 "nbformat_minor": 5
}

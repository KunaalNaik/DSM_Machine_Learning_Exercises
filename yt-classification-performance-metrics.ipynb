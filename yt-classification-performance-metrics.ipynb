{
 "cells": [
  {
   "cell_type": "markdown",
   "id": "b25c4f6e",
   "metadata": {
    "papermill": {
     "duration": 0.00867,
     "end_time": "2022-11-02T05:11:07.321897",
     "exception": false,
     "start_time": "2022-11-02T05:11:07.313227",
     "status": "completed"
    },
    "tags": []
   },
   "source": [
    "<a href=\"https://www.kaggle.com/code/funxexcel/dsm-1-start-lr-base-solution-framework?scriptVersionId=109244967\" target=\"_blank\"><img align=\"left\" alt=\"Kaggle\" title=\"Open in Kaggle\" src=\"https://kaggle.com/static/images/open-in-kaggle.svg\"></a>"
   ]
  },
  {
   "cell_type": "markdown",
   "id": "f8f608eb",
   "metadata": {
    "papermill": {
     "duration": 0.008539,
     "end_time": "2022-11-02T05:11:07.337453",
     "exception": false,
     "start_time": "2022-11-02T05:11:07.328914",
     "status": "completed"
    },
    "tags": []
   },
   "source": [
    "# Classification Performance Metrics Calculation\n",
    "# Must know! when you start to solve classification problems\n",
    "- 1/ Based on Class ( Yes/No )\n",
    "    - 1.1/ Accuracy - 2 methods\n",
    "    - 1.2/ Precision \n",
    "    - 1.3/ Recall\n",
    "    - 1.4/ f1 score\n",
    "    - 1.5/ classification report\n",
    "- 2/ Based on Probabilities ( score from 0.0 to 1.0 )\n",
    "    -2.1/ roc auc score\n",
    "- 3/ Print Score with proper formatting\n",
    "    - 0.235423434134 to 0.24"
   ]
  },
  {
   "cell_type": "markdown",
   "id": "24d118ba",
   "metadata": {
    "papermill": {
     "duration": 0.006365,
     "end_time": "2022-11-02T05:11:07.350592",
     "exception": false,
     "start_time": "2022-11-02T05:11:07.344227",
     "status": "completed"
    },
    "tags": []
   },
   "source": [
    "# Setup - Import/ Process/ Build Model/ Predict"
   ]
  },
  {
   "cell_type": "code",
   "execution_count": 1,
   "id": "e752fb5a",
   "metadata": {
    "execution": {
     "iopub.execute_input": "2022-11-02T05:11:07.366502Z",
     "iopub.status.busy": "2022-11-02T05:11:07.365741Z",
     "iopub.status.idle": "2022-11-02T05:11:09.793944Z",
     "shell.execute_reply": "2022-11-02T05:11:09.792267Z"
    },
    "papermill": {
     "duration": 2.442804,
     "end_time": "2022-11-02T05:11:09.800110",
     "exception": false,
     "start_time": "2022-11-02T05:11:07.357306",
     "status": "completed"
    },
    "tags": []
   },
   "outputs": [],
   "source": [
    "# 1/ Import Libraries\n",
    "import pandas as pd\n",
    "import numpy as numpy\n",
    "\n",
    "from sklearn.linear_model import LogisticRegression\n",
    "\n",
    "# 2/ Import Data\n",
    "train = pd.read_csv('../input/default-of-credit-card-clients/default of credit card clients.csv')\n",
    "\n",
    "# 3/ Split columns - into X and y\n",
    "y_actual = train['dpnm'] # represented by 'y' most often\n",
    "X = train.drop(['ID','dpnm'], axis = 1)\n",
    "\n",
    "# 4/ Dummy Encoding\n",
    "X = pd.get_dummies(X, drop_first = True)\n",
    "\n",
    "# 5/ Build Model \n",
    "lr = LogisticRegression(class_weight = 'balanced', max_iter = 1000)\n",
    "\n",
    "# 6/ Fit Model\n",
    "lr.fit(X, y_actual)\n",
    "\n",
    "# 7/ Predict\n",
    "# Predict Classes\n",
    "y_predicted = lr.predict(X)\n",
    "\n",
    "# Predict Probablities\n",
    "y_predicted_proba = lr.predict_proba(X)"
   ]
  },
  {
   "cell_type": "markdown",
   "id": "cff2d61d",
   "metadata": {
    "papermill": {
     "duration": 0.016705,
     "end_time": "2022-11-02T05:11:09.834100",
     "exception": false,
     "start_time": "2022-11-02T05:11:09.817395",
     "status": "completed"
    },
    "tags": []
   },
   "source": [
    "# Check both"
   ]
  },
  {
   "cell_type": "code",
   "execution_count": 2,
   "id": "c4f7cb08",
   "metadata": {
    "execution": {
     "iopub.execute_input": "2022-11-02T05:11:09.874385Z",
     "iopub.status.busy": "2022-11-02T05:11:09.873581Z",
     "iopub.status.idle": "2022-11-02T05:11:09.904512Z",
     "shell.execute_reply": "2022-11-02T05:11:09.902870Z"
    },
    "papermill": {
     "duration": 0.058441,
     "end_time": "2022-11-02T05:11:09.909880",
     "exception": false,
     "start_time": "2022-11-02T05:11:09.851439",
     "status": "completed"
    },
    "tags": []
   },
   "outputs": [
    {
     "data": {
      "text/html": [
       "<div>\n",
       "<style scoped>\n",
       "    .dataframe tbody tr th:only-of-type {\n",
       "        vertical-align: middle;\n",
       "    }\n",
       "\n",
       "    .dataframe tbody tr th {\n",
       "        vertical-align: top;\n",
       "    }\n",
       "\n",
       "    .dataframe thead th {\n",
       "        text-align: right;\n",
       "    }\n",
       "</style>\n",
       "<table border=\"1\" class=\"dataframe\">\n",
       "  <thead>\n",
       "    <tr style=\"text-align: right;\">\n",
       "      <th></th>\n",
       "      <th>y Actual</th>\n",
       "      <th>y Predicted</th>\n",
       "    </tr>\n",
       "  </thead>\n",
       "  <tbody>\n",
       "    <tr>\n",
       "      <th>0</th>\n",
       "      <td>1</td>\n",
       "      <td>1</td>\n",
       "    </tr>\n",
       "    <tr>\n",
       "      <th>1</th>\n",
       "      <td>1</td>\n",
       "      <td>1</td>\n",
       "    </tr>\n",
       "    <tr>\n",
       "      <th>2</th>\n",
       "      <td>0</td>\n",
       "      <td>1</td>\n",
       "    </tr>\n",
       "    <tr>\n",
       "      <th>3</th>\n",
       "      <td>0</td>\n",
       "      <td>1</td>\n",
       "    </tr>\n",
       "    <tr>\n",
       "      <th>4</th>\n",
       "      <td>0</td>\n",
       "      <td>1</td>\n",
       "    </tr>\n",
       "  </tbody>\n",
       "</table>\n",
       "</div>"
      ],
      "text/plain": [
       "   y Actual  y Predicted\n",
       "0         1            1\n",
       "1         1            1\n",
       "2         0            1\n",
       "3         0            1\n",
       "4         0            1"
      ]
     },
     "execution_count": 2,
     "metadata": {},
     "output_type": "execute_result"
    }
   ],
   "source": [
    "# Predict Actual vs Predicted Classed\n",
    "pd.DataFrame({\n",
    "    'y Actual' : y_actual,\n",
    "    'y Predicted' : y_predicted\n",
    "}).head()"
   ]
  },
  {
   "cell_type": "code",
   "execution_count": 3,
   "id": "b579abd0",
   "metadata": {
    "execution": {
     "iopub.execute_input": "2022-11-02T05:11:09.926094Z",
     "iopub.status.busy": "2022-11-02T05:11:09.925354Z",
     "iopub.status.idle": "2022-11-02T05:11:09.933857Z",
     "shell.execute_reply": "2022-11-02T05:11:09.932645Z"
    },
    "papermill": {
     "duration": 0.020526,
     "end_time": "2022-11-02T05:11:09.937480",
     "exception": false,
     "start_time": "2022-11-02T05:11:09.916954",
     "status": "completed"
    },
    "tags": []
   },
   "outputs": [
    {
     "name": "stdout",
     "output_type": "stream",
     "text": [
      "*Both Class Probabilities\n",
      "\n",
      "[[0.43336675 0.56663325]\n",
      " [0.49632048 0.50367952]\n",
      " [0.46968869 0.53031131]\n",
      " ...\n",
      " [0.4087237  0.5912763 ]\n",
      " [0.76973804 0.23026196]\n",
      " [0.36961841 0.63038159]]\n",
      "\n",
      "**Positive Class Only\n",
      "\n",
      "[0.56663325 0.50367952 0.53031131 ... 0.5912763  0.23026196 0.63038159]\n"
     ]
    }
   ],
   "source": [
    "# Gives predicted Probabilities for both Positive and Negative\n",
    "print('*Both Class Probabilities')\n",
    "print('')\n",
    "print(y_predicted_proba)\n",
    "\n",
    "# Predict Probablities - Positive Class\n",
    "print('')\n",
    "print('**Positive Class Only')\n",
    "print('')\n",
    "print(y_predicted_proba[:,1])"
   ]
  },
  {
   "cell_type": "code",
   "execution_count": 4,
   "id": "11fbb6e6",
   "metadata": {
    "execution": {
     "iopub.execute_input": "2022-11-02T05:11:09.954434Z",
     "iopub.status.busy": "2022-11-02T05:11:09.954011Z",
     "iopub.status.idle": "2022-11-02T05:11:09.967134Z",
     "shell.execute_reply": "2022-11-02T05:11:09.965851Z"
    },
    "papermill": {
     "duration": 0.024124,
     "end_time": "2022-11-02T05:11:09.969525",
     "exception": false,
     "start_time": "2022-11-02T05:11:09.945401",
     "status": "completed"
    },
    "tags": []
   },
   "outputs": [
    {
     "data": {
      "text/html": [
       "<div>\n",
       "<style scoped>\n",
       "    .dataframe tbody tr th:only-of-type {\n",
       "        vertical-align: middle;\n",
       "    }\n",
       "\n",
       "    .dataframe tbody tr th {\n",
       "        vertical-align: top;\n",
       "    }\n",
       "\n",
       "    .dataframe thead th {\n",
       "        text-align: right;\n",
       "    }\n",
       "</style>\n",
       "<table border=\"1\" class=\"dataframe\">\n",
       "  <thead>\n",
       "    <tr style=\"text-align: right;\">\n",
       "      <th></th>\n",
       "      <th>y Actual</th>\n",
       "      <th>y Predicted</th>\n",
       "    </tr>\n",
       "  </thead>\n",
       "  <tbody>\n",
       "    <tr>\n",
       "      <th>0</th>\n",
       "      <td>1</td>\n",
       "      <td>0.566633</td>\n",
       "    </tr>\n",
       "    <tr>\n",
       "      <th>1</th>\n",
       "      <td>1</td>\n",
       "      <td>0.503680</td>\n",
       "    </tr>\n",
       "    <tr>\n",
       "      <th>2</th>\n",
       "      <td>0</td>\n",
       "      <td>0.530311</td>\n",
       "    </tr>\n",
       "    <tr>\n",
       "      <th>3</th>\n",
       "      <td>0</td>\n",
       "      <td>0.601572</td>\n",
       "    </tr>\n",
       "    <tr>\n",
       "      <th>4</th>\n",
       "      <td>0</td>\n",
       "      <td>0.526532</td>\n",
       "    </tr>\n",
       "  </tbody>\n",
       "</table>\n",
       "</div>"
      ],
      "text/plain": [
       "   y Actual  y Predicted\n",
       "0         1     0.566633\n",
       "1         1     0.503680\n",
       "2         0     0.530311\n",
       "3         0     0.601572\n",
       "4         0     0.526532"
      ]
     },
     "execution_count": 4,
     "metadata": {},
     "output_type": "execute_result"
    }
   ],
   "source": [
    "# Predict Actual vs Predicted Probabilities\n",
    "pd.DataFrame({\n",
    "    'y Actual' : y_actual,\n",
    "    'y Predicted' : y_predicted_proba[:,1]\n",
    "}).head()"
   ]
  },
  {
   "cell_type": "markdown",
   "id": "a222df38",
   "metadata": {
    "papermill": {
     "duration": 0.006987,
     "end_time": "2022-11-02T05:11:09.983860",
     "exception": false,
     "start_time": "2022-11-02T05:11:09.976873",
     "status": "completed"
    },
    "tags": []
   },
   "source": [
    "# Classification Performance Metrics "
   ]
  },
  {
   "cell_type": "markdown",
   "id": "bd530659",
   "metadata": {
    "papermill": {
     "duration": 0.007086,
     "end_time": "2022-11-02T05:11:09.998205",
     "exception": false,
     "start_time": "2022-11-02T05:11:09.991119",
     "status": "completed"
    },
    "tags": []
   },
   "source": [
    "# Check Balance of Classes - train data"
   ]
  },
  {
   "cell_type": "code",
   "execution_count": 5,
   "id": "7eee5dd9",
   "metadata": {
    "execution": {
     "iopub.execute_input": "2022-11-02T05:11:10.015091Z",
     "iopub.status.busy": "2022-11-02T05:11:10.014613Z",
     "iopub.status.idle": "2022-11-02T05:11:10.255245Z",
     "shell.execute_reply": "2022-11-02T05:11:10.252993Z"
    },
    "papermill": {
     "duration": 0.255178,
     "end_time": "2022-11-02T05:11:10.260703",
     "exception": false,
     "start_time": "2022-11-02T05:11:10.005525",
     "status": "completed"
    },
    "tags": []
   },
   "outputs": [
    {
     "data": {
      "text/plain": [
       "<AxesSubplot:>"
      ]
     },
     "execution_count": 5,
     "metadata": {},
     "output_type": "execute_result"
    },
    {
     "data": {
      "image/png": "[encoded data removed]",
      "text/plain": [
       "<Figure size 432x288 with 1 Axes>"
      ]
     },
     "metadata": {
      "needs_background": "light"
     },
     "output_type": "display_data"
    }
   ],
   "source": [
    "train['dpnm'].value_counts().plot.bar()\n",
    "\n",
    "# imbalanced classes\n",
    "# case 1 : Are positive classes more important?\n",
    "# case 2 : Are both classes equally important?"
   ]
  },
  {
   "cell_type": "markdown",
   "id": "d47aa53a",
   "metadata": {
    "papermill": {
     "duration": 0.007524,
     "end_time": "2022-11-02T05:11:10.277458",
     "exception": false,
     "start_time": "2022-11-02T05:11:10.269934",
     "status": "completed"
    },
    "tags": []
   },
   "source": [
    "# 1/ Based on Class (Yes/No)"
   ]
  },
  {
   "cell_type": "markdown",
   "id": "ad68dc9b",
   "metadata": {
    "papermill": {
     "duration": 0.008495,
     "end_time": "2022-11-02T05:11:10.297066",
     "exception": false,
     "start_time": "2022-11-02T05:11:10.288571",
     "status": "completed"
    },
    "tags": []
   },
   "source": [
    "# 1.1/ Calculate Accuracy"
   ]
  },
  {
   "cell_type": "code",
   "execution_count": 6,
   "id": "fcea4123",
   "metadata": {
    "execution": {
     "iopub.execute_input": "2022-11-02T05:11:10.315808Z",
     "iopub.status.busy": "2022-11-02T05:11:10.315228Z",
     "iopub.status.idle": "2022-11-02T05:11:10.344584Z",
     "shell.execute_reply": "2022-11-02T05:11:10.342751Z"
    },
    "papermill": {
     "duration": 0.048009,
     "end_time": "2022-11-02T05:11:10.352908",
     "exception": false,
     "start_time": "2022-11-02T05:11:10.304899",
     "status": "completed"
    },
    "tags": []
   },
   "outputs": [
    {
     "name": "stdout",
     "output_type": "stream",
     "text": [
      "0.5550333333333334\n"
     ]
    }
   ],
   "source": [
    "# Method 1 : Use LogisticRegression method\n",
    "# https://scikit-learn.org/stable/modules/generated/sklearn.linear_model.LogisticRegression.html\n",
    "\n",
    "print(lr.score(X,y_actual))"
   ]
  },
  {
   "cell_type": "code",
   "execution_count": 7,
   "id": "4b41132d",
   "metadata": {
    "execution": {
     "iopub.execute_input": "2022-11-02T05:11:10.394242Z",
     "iopub.status.busy": "2022-11-02T05:11:10.393526Z",
     "iopub.status.idle": "2022-11-02T05:11:10.416303Z",
     "shell.execute_reply": "2022-11-02T05:11:10.414564Z"
    },
    "papermill": {
     "duration": 0.049142,
     "end_time": "2022-11-02T05:11:10.421334",
     "exception": false,
     "start_time": "2022-11-02T05:11:10.372192",
     "status": "completed"
    },
    "tags": []
   },
   "outputs": [
    {
     "name": "stdout",
     "output_type": "stream",
     "text": [
      "0.5550333333333334\n"
     ]
    }
   ],
   "source": [
    "# Method 2 : Use sklearn.metrics\n",
    "# https://scikit-learn.org/stable/modules/model_evaluation.html#classification-metrics\n",
    "\n",
    "# Import metric method\n",
    "from sklearn.metrics import accuracy_score\n",
    "\n",
    "print(accuracy_score(y_actual, y_predicted))"
   ]
  },
  {
   "cell_type": "markdown",
   "id": "61340e07",
   "metadata": {
    "papermill": {
     "duration": 0.013801,
     "end_time": "2022-11-02T05:11:10.454909",
     "exception": false,
     "start_time": "2022-11-02T05:11:10.441108",
     "status": "completed"
    },
    "tags": []
   },
   "source": [
    "# 1.2/ Recall"
   ]
  },
  {
   "cell_type": "code",
   "execution_count": 8,
   "id": "2b5a11f4",
   "metadata": {
    "execution": {
     "iopub.execute_input": "2022-11-02T05:11:10.472169Z",
     "iopub.status.busy": "2022-11-02T05:11:10.471799Z",
     "iopub.status.idle": "2022-11-02T05:11:10.493321Z",
     "shell.execute_reply": "2022-11-02T05:11:10.491233Z"
    },
    "papermill": {
     "duration": 0.034371,
     "end_time": "2022-11-02T05:11:10.497087",
     "exception": false,
     "start_time": "2022-11-02T05:11:10.462716",
     "status": "completed"
    },
    "tags": []
   },
   "outputs": [
    {
     "name": "stdout",
     "output_type": "stream",
     "text": [
      "0.72166968053044\n"
     ]
    }
   ],
   "source": [
    "# Import metric method\n",
    "from sklearn.metrics import recall_score\n",
    "\n",
    "print(recall_score(y_actual, y_predicted))"
   ]
  },
  {
   "cell_type": "markdown",
   "id": "53d86f85",
   "metadata": {
    "papermill": {
     "duration": 0.007437,
     "end_time": "2022-11-02T05:11:10.512599",
     "exception": false,
     "start_time": "2022-11-02T05:11:10.505162",
     "status": "completed"
    },
    "tags": []
   },
   "source": [
    "# 1.3/ Precision"
   ]
  },
  {
   "cell_type": "code",
   "execution_count": 9,
   "id": "6232a79b",
   "metadata": {
    "execution": {
     "iopub.execute_input": "2022-11-02T05:11:10.530502Z",
     "iopub.status.busy": "2022-11-02T05:11:10.529710Z",
     "iopub.status.idle": "2022-11-02T05:11:10.550702Z",
     "shell.execute_reply": "2022-11-02T05:11:10.549217Z"
    },
    "papermill": {
     "duration": 0.03276,
     "end_time": "2022-11-02T05:11:10.553215",
     "exception": false,
     "start_time": "2022-11-02T05:11:10.520455",
     "status": "completed"
    },
    "tags": []
   },
   "outputs": [
    {
     "name": "stdout",
     "output_type": "stream",
     "text": [
      "0.2939659934933399\n"
     ]
    }
   ],
   "source": [
    "# Import metric method\n",
    "from sklearn.metrics import precision_score\n",
    "\n",
    "print(precision_score(y_actual, y_predicted))"
   ]
  },
  {
   "cell_type": "markdown",
   "id": "c6c36650",
   "metadata": {
    "papermill": {
     "duration": 0.007636,
     "end_time": "2022-11-02T05:11:10.569226",
     "exception": false,
     "start_time": "2022-11-02T05:11:10.561590",
     "status": "completed"
    },
    "tags": []
   },
   "source": [
    "# 1.4/ f1 Score"
   ]
  },
  {
   "cell_type": "code",
   "execution_count": 10,
   "id": "c8b625b0",
   "metadata": {
    "execution": {
     "iopub.execute_input": "2022-11-02T05:11:10.586576Z",
     "iopub.status.busy": "2022-11-02T05:11:10.586169Z",
     "iopub.status.idle": "2022-11-02T05:11:10.606036Z",
     "shell.execute_reply": "2022-11-02T05:11:10.604539Z"
    },
    "papermill": {
     "duration": 0.031365,
     "end_time": "2022-11-02T05:11:10.608421",
     "exception": false,
     "start_time": "2022-11-02T05:11:10.577056",
     "status": "completed"
    },
    "tags": []
   },
   "outputs": [
    {
     "name": "stdout",
     "output_type": "stream",
     "text": [
      "0.41776071880315785\n"
     ]
    }
   ],
   "source": [
    "# Import metric method\n",
    "from sklearn.metrics import f1_score\n",
    "\n",
    "print(f1_score(y_actual, y_predicted))"
   ]
  },
  {
   "cell_type": "markdown",
   "id": "e0e5d9f2",
   "metadata": {
    "papermill": {
     "duration": 0.007542,
     "end_time": "2022-11-02T05:11:10.624429",
     "exception": false,
     "start_time": "2022-11-02T05:11:10.616887",
     "status": "completed"
    },
    "tags": []
   },
   "source": [
    "# 1.5/ Classification Report - Combines Accuracy/Precision/Recall/f1 score"
   ]
  },
  {
   "cell_type": "code",
   "execution_count": 11,
   "id": "28200e9e",
   "metadata": {
    "execution": {
     "iopub.execute_input": "2022-11-02T05:11:10.642797Z",
     "iopub.status.busy": "2022-11-02T05:11:10.642099Z",
     "iopub.status.idle": "2022-11-02T05:11:10.706843Z",
     "shell.execute_reply": "2022-11-02T05:11:10.705223Z"
    },
    "papermill": {
     "duration": 0.078026,
     "end_time": "2022-11-02T05:11:10.710486",
     "exception": false,
     "start_time": "2022-11-02T05:11:10.632460",
     "status": "completed"
    },
    "tags": []
   },
   "outputs": [
    {
     "name": "stdout",
     "output_type": "stream",
     "text": [
      "              precision    recall  f1-score   support\n",
      "\n",
      "           0       0.87      0.51      0.64     23364\n",
      "           1       0.29      0.72      0.42      6636\n",
      "\n",
      "    accuracy                           0.56     30000\n",
      "   macro avg       0.58      0.61      0.53     30000\n",
      "weighted avg       0.74      0.56      0.59     30000\n",
      "\n"
     ]
    }
   ],
   "source": [
    "# Import metric method\n",
    "from sklearn.metrics import classification_report\n",
    "\n",
    "print(classification_report(y_actual, y_predicted))"
   ]
  },
  {
   "cell_type": "markdown",
   "id": "66dfd5d6",
   "metadata": {
    "papermill": {
     "duration": 0.007566,
     "end_time": "2022-11-02T05:11:10.726382",
     "exception": false,
     "start_time": "2022-11-02T05:11:10.718816",
     "status": "completed"
    },
    "tags": []
   },
   "source": [
    "# 2/ Based on Probabilities ( score from 0.0 to 1.0 )"
   ]
  },
  {
   "cell_type": "markdown",
   "id": "6f16bb32",
   "metadata": {
    "papermill": {
     "duration": 0.00758,
     "end_time": "2022-11-02T05:11:10.742345",
     "exception": false,
     "start_time": "2022-11-02T05:11:10.734765",
     "status": "completed"
    },
    "tags": []
   },
   "source": [
    "# 2.1/ roc auc score"
   ]
  },
  {
   "cell_type": "code",
   "execution_count": 12,
   "id": "6e833c6c",
   "metadata": {
    "execution": {
     "iopub.execute_input": "2022-11-02T05:11:10.760636Z",
     "iopub.status.busy": "2022-11-02T05:11:10.759539Z",
     "iopub.status.idle": "2022-11-02T05:11:10.774131Z",
     "shell.execute_reply": "2022-11-02T05:11:10.772774Z"
    },
    "papermill": {
     "duration": 0.026271,
     "end_time": "2022-11-02T05:11:10.776594",
     "exception": false,
     "start_time": "2022-11-02T05:11:10.750323",
     "status": "completed"
    },
    "tags": []
   },
   "outputs": [
    {
     "name": "stdout",
     "output_type": "stream",
     "text": [
      "0.6146869203884865\n"
     ]
    }
   ],
   "source": [
    "# Import metric method\n",
    "from sklearn.metrics import roc_auc_score\n",
    "\n",
    "print(roc_auc_score(y_actual, y_predicted))\n",
    "\n",
    "# Can also plotted using roc auc curve\n",
    "# used when both classes are important"
   ]
  },
  {
   "cell_type": "markdown",
   "id": "f71c6d65",
   "metadata": {
    "papermill": {
     "duration": 0.007927,
     "end_time": "2022-11-02T05:11:10.792756",
     "exception": false,
     "start_time": "2022-11-02T05:11:10.784829",
     "status": "completed"
    },
    "tags": []
   },
   "source": [
    "# 3/ Print Score with proper formatting"
   ]
  },
  {
   "cell_type": "code",
   "execution_count": 13,
   "id": "a34a02f7",
   "metadata": {
    "execution": {
     "iopub.execute_input": "2022-11-02T05:11:10.811195Z",
     "iopub.status.busy": "2022-11-02T05:11:10.810139Z",
     "iopub.status.idle": "2022-11-02T05:11:10.820461Z",
     "shell.execute_reply": "2022-11-02T05:11:10.818932Z"
    },
    "papermill": {
     "duration": 0.023096,
     "end_time": "2022-11-02T05:11:10.823902",
     "exception": false,
     "start_time": "2022-11-02T05:11:10.800806",
     "status": "completed"
    },
    "tags": []
   },
   "outputs": [
    {
     "name": "stdout",
     "output_type": "stream",
     "text": [
      "0.5550333333333334\n"
     ]
    }
   ],
   "source": [
    "# assign to a variable\n",
    "\n",
    "train_accuracy = accuracy_score(y_actual, y_predicted)\n",
    "\n",
    "print(train_accuracy)"
   ]
  },
  {
   "cell_type": "code",
   "execution_count": 14,
   "id": "78a1d437",
   "metadata": {
    "execution": {
     "iopub.execute_input": "2022-11-02T05:11:10.843068Z",
     "iopub.status.busy": "2022-11-02T05:11:10.841846Z",
     "iopub.status.idle": "2022-11-02T05:11:10.849050Z",
     "shell.execute_reply": "2022-11-02T05:11:10.847762Z"
    },
    "papermill": {
     "duration": 0.01885,
     "end_time": "2022-11-02T05:11:10.851273",
     "exception": false,
     "start_time": "2022-11-02T05:11:10.832423",
     "status": "completed"
    },
    "tags": []
   },
   "outputs": [
    {
     "name": "stdout",
     "output_type": "stream",
     "text": [
      "0.56\n"
     ]
    }
   ],
   "source": [
    "# Using %\n",
    "# 1/ Provide the Decimals in Quote followed by %\n",
    "# 2/ Provide the metrics (Variables or direction function)\n",
    "\n",
    "print('%.2f' % train_accuracy)"
   ]
  },
  {
   "cell_type": "code",
   "execution_count": 15,
   "id": "8dfc826b",
   "metadata": {
    "execution": {
     "iopub.execute_input": "2022-11-02T05:11:10.870081Z",
     "iopub.status.busy": "2022-11-02T05:11:10.869236Z",
     "iopub.status.idle": "2022-11-02T05:11:10.875779Z",
     "shell.execute_reply": "2022-11-02T05:11:10.874661Z"
    },
    "papermill": {
     "duration": 0.018204,
     "end_time": "2022-11-02T05:11:10.878053",
     "exception": false,
     "start_time": "2022-11-02T05:11:10.859849",
     "status": "completed"
    },
    "tags": []
   },
   "outputs": [
    {
     "name": "stdout",
     "output_type": "stream",
     "text": [
      "0.56\n"
     ]
    }
   ],
   "source": [
    "# Using format\n",
    "# 1/ Provide the Decimals in Curly Brackets followed by .format()\n",
    "# 2/ Provide the metrics (Variables or direction function)\n",
    "\n",
    "print('{0:.2f}'.format(train_accuracy))"
   ]
  },
  {
   "cell_type": "code",
   "execution_count": 16,
   "id": "b8fee3de",
   "metadata": {
    "execution": {
     "iopub.execute_input": "2022-11-02T05:11:10.896948Z",
     "iopub.status.busy": "2022-11-02T05:11:10.895818Z",
     "iopub.status.idle": "2022-11-02T05:11:10.901799Z",
     "shell.execute_reply": "2022-11-02T05:11:10.900596Z"
    },
    "papermill": {
     "duration": 0.01792,
     "end_time": "2022-11-02T05:11:10.904210",
     "exception": false,
     "start_time": "2022-11-02T05:11:10.886290",
     "status": "completed"
    },
    "tags": []
   },
   "outputs": [
    {
     "name": "stdout",
     "output_type": "stream",
     "text": [
      "Train Accuracy 0.56\n"
     ]
    }
   ],
   "source": [
    "# Print with text\n",
    "print('Train Accuracy {0:.2f}'.format(train_accuracy))"
   ]
  },
  {
   "cell_type": "markdown",
   "id": "c0e2a026",
   "metadata": {
    "papermill": {
     "duration": 0.007968,
     "end_time": "2022-11-02T05:11:10.920458",
     "exception": false,
     "start_time": "2022-11-02T05:11:10.912490",
     "status": "completed"
    },
    "tags": []
   },
   "source": [
    "# Next\n",
    "- 1/ Confustion Matrix\n",
    "- 2/ roc auc plot"
   ]
  }
 ],
 "metadata": {
  "kernelspec": {
   "display_name": "Python 3",
   "language": "python",
   "name": "python3"
  },
  "language_info": {
   "codemirror_mode": {
    "name": "ipython",
    "version": 3
   },
   "file_extension": ".py",
   "mimetype": "text/x-python",
   "name": "python",
   "nbconvert_exporter": "python",
   "pygments_lexer": "ipython3",
   "version": "3.7.12"
  },
  "papermill": {
   "default_parameters": {},
   "duration": 12.805983,
   "end_time": "2022-11-02T05:11:11.749971",
   "environment_variables": {},
   "exception": null,
   "input_path": "__notebook__.ipynb",
   "output_path": "__notebook__.ipynb",
   "parameters": {},
   "start_time": "2022-11-02T05:10:58.943988",
   "version": "2.3.4"
  }
 },
 "nbformat": 4,
 "nbformat_minor": 5
}

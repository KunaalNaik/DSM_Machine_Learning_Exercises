{
 "cells": [
  {
   "cell_type": "markdown",
   "id": "e781b77c",
   "metadata": {
    "papermill": {
     "duration": 0.006342,
     "end_time": "2022-10-27T04:03:00.243231",
     "exception": false,
     "start_time": "2022-10-27T04:03:00.236889",
     "status": "completed"
    },
    "tags": []
   },
   "source": [
    "<a href=\"https://www.kaggle.com/code/funxexcel/p1-lr-base-solution-framework?scriptVersionId=109244171\" target=\"_blank\"><img align=\"left\" alt=\"Kaggle\" title=\"Open in Kaggle\" src=\"https://kaggle.com/static/images/open-in-kaggle.svg\"></a>"
   ]
  },
  {
   "cell_type": "markdown",
   "id": "b0bd4818",
   "metadata": {
    "papermill": {
     "duration": 0.00487,
     "end_time": "2022-10-27T04:03:00.253612",
     "exception": false,
     "start_time": "2022-10-27T04:03:00.248742",
     "status": "completed"
    },
    "tags": []
   },
   "source": [
    "# Logistic Regression Base Solution Framework\n",
    "- 1/ Import Libraries\n",
    "- 2/ Import Data - train data(multiple), test data, combo of data( linked with ID )\n",
    "    - CSV (Delimited), Excel, Server(SQL Server, SQL, Oracle, Azure, AWS), JSON\n",
    "- 3/ 3/ Check Features (columns) and their Data Types\n",
    "- 4/ Split columns - into X and y \n",
    "- 5/ Split Data into train & test\n",
    "- 6/ Data Transformation\n",
    "    - Encoding Categorical Columns - Dummy *\n",
    "    - Numerical Transformation (not compulsary)\n",
    "- 7/ Build Model (train data) - Logistic Regression\n",
    "    - 1/ Initiation an Instance\n",
    "    - 2/ Fit Model - X_train, y_train\n",
    "- 8/ Make Predictions\n",
    "    - Predict y for Train Data (Bias)\n",
    "    - Predict y for Test Data (Variance)\n",
    "- 9/ Calculate Performance Metrics\n",
    "    - Accuracy\n",
    "    - ROC AUC Curve\n",
    "    - F1 Score"
   ]
  },
  {
   "cell_type": "markdown",
   "id": "9e634f96",
   "metadata": {
    "papermill": {
     "duration": 0.00484,
     "end_time": "2022-10-27T04:03:00.263608",
     "exception": false,
     "start_time": "2022-10-27T04:03:00.258768",
     "status": "completed"
    },
    "tags": []
   },
   "source": [
    "# 1/ Import libraries"
   ]
  },
  {
   "cell_type": "code",
   "execution_count": 1,
   "id": "e9fad1d3",
   "metadata": {
    "execution": {
     "iopub.execute_input": "2022-10-27T04:03:00.276742Z",
     "iopub.status.busy": "2022-10-27T04:03:00.275749Z",
     "iopub.status.idle": "2022-10-27T04:03:00.282751Z",
     "shell.execute_reply": "2022-10-27T04:03:00.281435Z"
    },
    "papermill": {
     "duration": 0.016824,
     "end_time": "2022-10-27T04:03:00.285521",
     "exception": false,
     "start_time": "2022-10-27T04:03:00.268697",
     "status": "completed"
    },
    "tags": []
   },
   "outputs": [],
   "source": [
    "# Write code to import numpy, pandas\n",
    "\n",
    "\n",
    "# Write code to import train test split method\n",
    "\n",
    "\n",
    "# Write code to import logistic regression model\n",
    "\n",
    "\n",
    "# Write code to import classfication report\n",
    "\n"
   ]
  },
  {
   "cell_type": "markdown",
   "id": "d8320809",
   "metadata": {
    "papermill": {
     "duration": 0.004917,
     "end_time": "2022-10-27T04:03:00.295818",
     "exception": false,
     "start_time": "2022-10-27T04:03:00.290901",
     "status": "completed"
    },
    "tags": []
   },
   "source": [
    "# 2/ Import Data"
   ]
  },
  {
   "cell_type": "code",
   "execution_count": 2,
   "id": "2bb57259",
   "metadata": {
    "execution": {
     "iopub.execute_input": "2022-10-27T04:03:00.308723Z",
     "iopub.status.busy": "2022-10-27T04:03:00.307814Z",
     "iopub.status.idle": "2022-10-27T04:03:00.312538Z",
     "shell.execute_reply": "2022-10-27T04:03:00.311408Z"
    },
    "papermill": {
     "duration": 0.013389,
     "end_time": "2022-10-27T04:03:00.314677",
     "exception": false,
     "start_time": "2022-10-27T04:03:00.301288",
     "status": "completed"
    },
    "tags": []
   },
   "outputs": [],
   "source": [
    "# Write a code to import train and test data\n",
    "# If test data - does not exist import only train data\n",
    "# train = "
   ]
  },
  {
   "cell_type": "markdown",
   "id": "b57c2e35",
   "metadata": {
    "papermill": {
     "duration": 0.004992,
     "end_time": "2022-10-27T04:03:00.325034",
     "exception": false,
     "start_time": "2022-10-27T04:03:00.320042",
     "status": "completed"
    },
    "tags": []
   },
   "source": [
    "# 3/ Check Features (columns) and their Data Types"
   ]
  },
  {
   "cell_type": "code",
   "execution_count": 3,
   "id": "a0e86545",
   "metadata": {
    "execution": {
     "iopub.execute_input": "2022-10-27T04:03:00.337320Z",
     "iopub.status.busy": "2022-10-27T04:03:00.336682Z",
     "iopub.status.idle": "2022-10-27T04:03:00.341294Z",
     "shell.execute_reply": "2022-10-27T04:03:00.340562Z"
    },
    "papermill": {
     "duration": 0.013315,
     "end_time": "2022-10-27T04:03:00.343499",
     "exception": false,
     "start_time": "2022-10-27T04:03:00.330184",
     "status": "completed"
    },
    "tags": []
   },
   "outputs": [],
   "source": [
    "# Write a code to check the first 5 rows of the data\n"
   ]
  },
  {
   "cell_type": "code",
   "execution_count": 4,
   "id": "25f2e15f",
   "metadata": {
    "execution": {
     "iopub.execute_input": "2022-10-27T04:03:00.357417Z",
     "iopub.status.busy": "2022-10-27T04:03:00.356978Z",
     "iopub.status.idle": "2022-10-27T04:03:00.361466Z",
     "shell.execute_reply": "2022-10-27T04:03:00.360276Z"
    },
    "papermill": {
     "duration": 0.013349,
     "end_time": "2022-10-27T04:03:00.363610",
     "exception": false,
     "start_time": "2022-10-27T04:03:00.350261",
     "status": "completed"
    },
    "tags": []
   },
   "outputs": [],
   "source": [
    "# Write a code to check the data type for each columns\n"
   ]
  },
  {
   "cell_type": "markdown",
   "id": "158d9f0a",
   "metadata": {
    "papermill": {
     "duration": 0.004979,
     "end_time": "2022-10-27T04:03:00.373856",
     "exception": false,
     "start_time": "2022-10-27T04:03:00.368877",
     "status": "completed"
    },
    "tags": []
   },
   "source": [
    "# 4/ Split columns into y and X datasets"
   ]
  },
  {
   "cell_type": "code",
   "execution_count": 5,
   "id": "5d66ee21",
   "metadata": {
    "execution": {
     "iopub.execute_input": "2022-10-27T04:03:00.385646Z",
     "iopub.status.busy": "2022-10-27T04:03:00.385255Z",
     "iopub.status.idle": "2022-10-27T04:03:00.389783Z",
     "shell.execute_reply": "2022-10-27T04:03:00.388561Z"
    },
    "papermill": {
     "duration": 0.012897,
     "end_time": "2022-10-27T04:03:00.391883",
     "exception": false,
     "start_time": "2022-10-27T04:03:00.378986",
     "status": "completed"
    },
    "tags": []
   },
   "outputs": [],
   "source": [
    "# Write code to hold target feature in y and all features except (ID features or features that hold unique values)\n",
    "# y = \n",
    "# X = "
   ]
  },
  {
   "cell_type": "markdown",
   "id": "91ef2a12",
   "metadata": {
    "papermill": {
     "duration": 0.004986,
     "end_time": "2022-10-27T04:03:00.402042",
     "exception": false,
     "start_time": "2022-10-27T04:03:00.397056",
     "status": "completed"
    },
    "tags": []
   },
   "source": [
    "# 5/ Split data into Train and Test split"
   ]
  },
  {
   "cell_type": "code",
   "execution_count": 6,
   "id": "aa594255",
   "metadata": {
    "execution": {
     "iopub.execute_input": "2022-10-27T04:03:00.414559Z",
     "iopub.status.busy": "2022-10-27T04:03:00.414169Z",
     "iopub.status.idle": "2022-10-27T04:03:00.418689Z",
     "shell.execute_reply": "2022-10-27T04:03:00.417529Z"
    },
    "papermill": {
     "duration": 0.013598,
     "end_time": "2022-10-27T04:03:00.420821",
     "exception": false,
     "start_time": "2022-10-27T04:03:00.407223",
     "status": "completed"
    },
    "tags": []
   },
   "outputs": [],
   "source": [
    "# Write a code to call the train_test_split function and partition y, X \n",
    "# into X_train, X_test, y_train, y_test\n",
    "# Do a 80% - 20% split\n",
    "# Use a random state of your choice\n"
   ]
  },
  {
   "cell_type": "markdown",
   "id": "ee04790a",
   "metadata": {
    "papermill": {
     "duration": 0.004921,
     "end_time": "2022-10-27T04:03:00.430980",
     "exception": false,
     "start_time": "2022-10-27T04:03:00.426059",
     "status": "completed"
    },
    "tags": []
   },
   "source": [
    "# 6/ Data Transformation"
   ]
  },
  {
   "cell_type": "code",
   "execution_count": 7,
   "id": "a84618a0",
   "metadata": {
    "execution": {
     "iopub.execute_input": "2022-10-27T04:03:00.442711Z",
     "iopub.status.busy": "2022-10-27T04:03:00.442289Z",
     "iopub.status.idle": "2022-10-27T04:03:00.447417Z",
     "shell.execute_reply": "2022-10-27T04:03:00.446460Z"
    },
    "papermill": {
     "duration": 0.01372,
     "end_time": "2022-10-27T04:03:00.449758",
     "exception": false,
     "start_time": "2022-10-27T04:03:00.436038",
     "status": "completed"
    },
    "tags": []
   },
   "outputs": [],
   "source": [
    "# Write a code to get Dummy variables for X_train data \n",
    "\n",
    "\n",
    "# Write a code to get Dummy Variables for X_test data\n",
    "\n"
   ]
  },
  {
   "cell_type": "markdown",
   "id": "60a43510",
   "metadata": {
    "papermill": {
     "duration": 0.004816,
     "end_time": "2022-10-27T04:03:00.459702",
     "exception": false,
     "start_time": "2022-10-27T04:03:00.454886",
     "status": "completed"
    },
    "tags": []
   },
   "source": [
    "# 7/ Build Model (train data) - Logistic Regression"
   ]
  },
  {
   "cell_type": "code",
   "execution_count": 8,
   "id": "0e075ea7",
   "metadata": {
    "execution": {
     "iopub.execute_input": "2022-10-27T04:03:00.471854Z",
     "iopub.status.busy": "2022-10-27T04:03:00.471151Z",
     "iopub.status.idle": "2022-10-27T04:03:00.475787Z",
     "shell.execute_reply": "2022-10-27T04:03:00.474649Z"
    },
    "papermill": {
     "duration": 0.013308,
     "end_time": "2022-10-27T04:03:00.478203",
     "exception": false,
     "start_time": "2022-10-27T04:03:00.464895",
     "status": "completed"
    },
    "tags": []
   },
   "outputs": [],
   "source": [
    "# Write a code to create an Intance of Logistic Regression\n",
    "\n"
   ]
  },
  {
   "cell_type": "code",
   "execution_count": 9,
   "id": "56e8d3f5",
   "metadata": {
    "execution": {
     "iopub.execute_input": "2022-10-27T04:03:00.490621Z",
     "iopub.status.busy": "2022-10-27T04:03:00.490211Z",
     "iopub.status.idle": "2022-10-27T04:03:00.494443Z",
     "shell.execute_reply": "2022-10-27T04:03:00.493430Z"
    },
    "papermill": {
     "duration": 0.01331,
     "end_time": "2022-10-27T04:03:00.496763",
     "exception": false,
     "start_time": "2022-10-27T04:03:00.483453",
     "status": "completed"
    },
    "tags": []
   },
   "outputs": [],
   "source": [
    "# Write a code to Fit Logistic Regression\n",
    "\n"
   ]
  },
  {
   "cell_type": "markdown",
   "id": "58419579",
   "metadata": {
    "papermill": {
     "duration": 0.005155,
     "end_time": "2022-10-27T04:03:00.507285",
     "exception": false,
     "start_time": "2022-10-27T04:03:00.502130",
     "status": "completed"
    },
    "tags": []
   },
   "source": [
    "# 8/ Make Predictions"
   ]
  },
  {
   "cell_type": "code",
   "execution_count": 10,
   "id": "b5b9e28b",
   "metadata": {
    "execution": {
     "iopub.execute_input": "2022-10-27T04:03:00.519710Z",
     "iopub.status.busy": "2022-10-27T04:03:00.519286Z",
     "iopub.status.idle": "2022-10-27T04:03:00.523955Z",
     "shell.execute_reply": "2022-10-27T04:03:00.522919Z"
    },
    "papermill": {
     "duration": 0.013414,
     "end_time": "2022-10-27T04:03:00.526130",
     "exception": false,
     "start_time": "2022-10-27T04:03:00.512716",
     "status": "completed"
    },
    "tags": []
   },
   "outputs": [],
   "source": [
    "# Write a code to make predicitions on X_train data\n",
    "# y_train_predicted = \n",
    "\n",
    "# Write a code to make predicitions on X_test data\n",
    "# y_test_predicted = "
   ]
  },
  {
   "cell_type": "markdown",
   "id": "641d2b5f",
   "metadata": {
    "papermill": {
     "duration": 0.004794,
     "end_time": "2022-10-27T04:03:00.536254",
     "exception": false,
     "start_time": "2022-10-27T04:03:00.531460",
     "status": "completed"
    },
    "tags": []
   },
   "source": [
    "# 9/ Calculate Performance Metrics"
   ]
  },
  {
   "cell_type": "code",
   "execution_count": 11,
   "id": "cdc6439c",
   "metadata": {
    "execution": {
     "iopub.execute_input": "2022-10-27T04:03:00.548173Z",
     "iopub.status.busy": "2022-10-27T04:03:00.547768Z",
     "iopub.status.idle": "2022-10-27T04:03:00.551999Z",
     "shell.execute_reply": "2022-10-27T04:03:00.551321Z"
    },
    "papermill": {
     "duration": 0.012469,
     "end_time": "2022-10-27T04:03:00.553788",
     "exception": false,
     "start_time": "2022-10-27T04:03:00.541319",
     "status": "completed"
    },
    "tags": []
   },
   "outputs": [],
   "source": [
    "# Write a code to get the classification report (Train) for checking the performance\n"
   ]
  },
  {
   "cell_type": "code",
   "execution_count": 12,
   "id": "74f359e6",
   "metadata": {
    "execution": {
     "iopub.execute_input": "2022-10-27T04:03:00.565324Z",
     "iopub.status.busy": "2022-10-27T04:03:00.564966Z",
     "iopub.status.idle": "2022-10-27T04:03:00.569455Z",
     "shell.execute_reply": "2022-10-27T04:03:00.568430Z"
    },
    "papermill": {
     "duration": 0.012623,
     "end_time": "2022-10-27T04:03:00.571497",
     "exception": false,
     "start_time": "2022-10-27T04:03:00.558874",
     "status": "completed"
    },
    "tags": []
   },
   "outputs": [],
   "source": [
    "# Write a code to get the classification report (Test) for checking the performance\n"
   ]
  },
  {
   "cell_type": "markdown",
   "id": "9474f399",
   "metadata": {
    "papermill": {
     "duration": 0.004952,
     "end_time": "2022-10-27T04:03:00.581639",
     "exception": false,
     "start_time": "2022-10-27T04:03:00.576687",
     "status": "completed"
    },
    "tags": []
   },
   "source": [
    "# Did you overfit the model? - If so how can you say you have overfitted?"
   ]
  }
 ],
 "metadata": {
  "kernelspec": {
   "display_name": "Python 3",
   "language": "python",
   "name": "python3"
  },
  "language_info": {
   "codemirror_mode": {
    "name": "ipython",
    "version": 3
   },
   "file_extension": ".py",
   "mimetype": "text/x-python",
   "name": "python",
   "nbconvert_exporter": "python",
   "pygments_lexer": "ipython3",
   "version": "3.7.12"
  },
  "papermill": {
   "default_parameters": {},
   "duration": 9.60638,
   "end_time": "2022-10-27T04:03:01.207296",
   "environment_variables": {},
   "exception": null,
   "input_path": "__notebook__.ipynb",
   "output_path": "__notebook__.ipynb",
   "parameters": {},
   "start_time": "2022-10-27T04:02:51.600916",
   "version": "2.3.4"
  }
 },
 "nbformat": 4,
 "nbformat_minor": 5
}

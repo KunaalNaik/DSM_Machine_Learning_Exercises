{
 "cells": [
  {
   "cell_type": "markdown",
   "id": "65b3a091",
   "metadata": {
    "papermill": {
     "duration": 0.008137,
     "end_time": "2022-11-02T17:55:43.813660",
     "exception": false,
     "start_time": "2022-11-02T17:55:43.805523",
     "status": "completed"
    },
    "tags": []
   },
   "source": [
    "<a href=\"https://www.kaggle.com/code/funxexcel/dsm-1-start-lr-base-solution-framework?scriptVersionId=109244967\" target=\"_blank\"><img align=\"left\" alt=\"Kaggle\" title=\"Open in Kaggle\" src=\"https://kaggle.com/static/images/open-in-kaggle.svg\"></a>"
   ]
  },
  {
   "cell_type": "markdown",
   "id": "56612087",
   "metadata": {
    "papermill": {
     "duration": 0.006319,
     "end_time": "2022-11-02T17:55:43.826723",
     "exception": false,
     "start_time": "2022-11-02T17:55:43.820404",
     "status": "completed"
    },
    "tags": []
   },
   "source": [
    "# Classification Performance Metrics Calculation\n",
    "# Must know! when you start to solve classification problems\n",
    "- 1/ Based on Class ( Yes/No )\n",
    "    - 1.1/ Accuracy - 2 methods\n",
    "    - 1.2/ Precision \n",
    "    - 1.3/ Recall\n",
    "    - 1.4/ f1 score\n",
    "    - 1.5/ classification report\n",
    "- 2/ Based on Probabilities ( score from 0.0 to 1.0 )\n",
    "    - 2.1/ roc auc score\n",
    "- 3/ Print Score with proper formatting\n",
    "    - 0.235423434134 to 0.24"
   ]
  },
  {
   "cell_type": "markdown",
   "id": "3d9134b1",
   "metadata": {
    "papermill": {
     "duration": 0.006128,
     "end_time": "2022-11-02T17:55:43.839321",
     "exception": false,
     "start_time": "2022-11-02T17:55:43.833193",
     "status": "completed"
    },
    "tags": []
   },
   "source": [
    "# Setup - Import/ Process/ Build Model/ Predict"
   ]
  },
  {
   "cell_type": "code",
   "execution_count": 1,
   "id": "f0e6fe44",
   "metadata": {
    "execution": {
     "iopub.execute_input": "2022-11-02T17:55:43.854573Z",
     "iopub.status.busy": "2022-11-02T17:55:43.853828Z",
     "iopub.status.idle": "2022-11-02T17:55:46.292278Z",
     "shell.execute_reply": "2022-11-02T17:55:46.290647Z"
    },
    "papermill": {
     "duration": 2.451208,
     "end_time": "2022-11-02T17:55:46.296904",
     "exception": false,
     "start_time": "2022-11-02T17:55:43.845696",
     "status": "completed"
    },
    "tags": []
   },
   "outputs": [],
   "source": [
    "# 1/ Import Libraries\n",
    "import pandas as pd\n",
    "import numpy as numpy\n",
    "\n",
    "from sklearn.linear_model import LogisticRegression\n",
    "\n",
    "# 2/ Import Data\n",
    "train = pd.read_csv('../input/default-of-credit-card-clients/default of credit card clients.csv')\n",
    "\n",
    "# 3/ Split columns - into X and y\n",
    "y_actual = train['dpnm'] # represented by 'y' most often\n",
    "X = train.drop(['ID','dpnm'], axis = 1)\n",
    "\n",
    "# 4/ Dummy Encoding\n",
    "X = pd.get_dummies(X, drop_first = True)\n",
    "\n",
    "# 5/ Build Model \n",
    "lr = LogisticRegression(class_weight = 'balanced', max_iter = 1000)\n",
    "\n",
    "# 6/ Fit Model\n",
    "lr.fit(X, y_actual)\n",
    "\n",
    "# 7/ Predict\n",
    "# Predict Classes\n",
    "y_predicted = lr.predict(X)\n",
    "\n",
    "# Predict Probablities\n",
    "y_predicted_proba = lr.predict_proba(X)"
   ]
  },
  {
   "cell_type": "markdown",
   "id": "db855a33",
   "metadata": {
    "papermill": {
     "duration": 0.016351,
     "end_time": "2022-11-02T17:55:46.330756",
     "exception": false,
     "start_time": "2022-11-02T17:55:46.314405",
     "status": "completed"
    },
    "tags": []
   },
   "source": [
    "# Check both"
   ]
  },
  {
   "cell_type": "code",
   "execution_count": 2,
   "id": "eca7ab65",
   "metadata": {
    "execution": {
     "iopub.execute_input": "2022-11-02T17:55:46.369631Z",
     "iopub.status.busy": "2022-11-02T17:55:46.368951Z",
     "iopub.status.idle": "2022-11-02T17:55:46.396812Z",
     "shell.execute_reply": "2022-11-02T17:55:46.395324Z"
    },
    "papermill": {
     "duration": 0.053927,
     "end_time": "2022-11-02T17:55:46.401550",
     "exception": false,
     "start_time": "2022-11-02T17:55:46.347623",
     "status": "completed"
    },
    "tags": []
   },
   "outputs": [
    {
     "data": {
      "text/html": [
       "<div>\n",
       "<style scoped>\n",
       "    .dataframe tbody tr th:only-of-type {\n",
       "        vertical-align: middle;\n",
       "    }\n",
       "\n",
       "    .dataframe tbody tr th {\n",
       "        vertical-align: top;\n",
       "    }\n",
       "\n",
       "    .dataframe thead th {\n",
       "        text-align: right;\n",
       "    }\n",
       "</style>\n",
       "<table border=\"1\" class=\"dataframe\">\n",
       "  <thead>\n",
       "    <tr style=\"text-align: right;\">\n",
       "      <th></th>\n",
       "      <th>y Actual</th>\n",
       "      <th>y Predicted</th>\n",
       "    </tr>\n",
       "  </thead>\n",
       "  <tbody>\n",
       "    <tr>\n",
       "      <th>0</th>\n",
       "      <td>1</td>\n",
       "      <td>1</td>\n",
       "    </tr>\n",
       "    <tr>\n",
       "      <th>1</th>\n",
       "      <td>1</td>\n",
       "      <td>1</td>\n",
       "    </tr>\n",
       "    <tr>\n",
       "      <th>2</th>\n",
       "      <td>0</td>\n",
       "      <td>1</td>\n",
       "    </tr>\n",
       "    <tr>\n",
       "      <th>3</th>\n",
       "      <td>0</td>\n",
       "      <td>1</td>\n",
       "    </tr>\n",
       "    <tr>\n",
       "      <th>4</th>\n",
       "      <td>0</td>\n",
       "      <td>1</td>\n",
       "    </tr>\n",
       "  </tbody>\n",
       "</table>\n",
       "</div>"
      ],
      "text/plain": [
       "   y Actual  y Predicted\n",
       "0         1            1\n",
       "1         1            1\n",
       "2         0            1\n",
       "3         0            1\n",
       "4         0            1"
      ]
     },
     "execution_count": 2,
     "metadata": {},
     "output_type": "execute_result"
    }
   ],
   "source": [
    "# Predict Actual vs Predicted Classes\n",
    "pd.DataFrame({\n",
    "    'y Actual' : y_actual,\n",
    "    'y Predicted' : y_predicted\n",
    "}).head()"
   ]
  },
  {
   "cell_type": "code",
   "execution_count": 3,
   "id": "e5485d0e",
   "metadata": {
    "execution": {
     "iopub.execute_input": "2022-11-02T17:55:46.421193Z",
     "iopub.status.busy": "2022-11-02T17:55:46.420803Z",
     "iopub.status.idle": "2022-11-02T17:55:46.427339Z",
     "shell.execute_reply": "2022-11-02T17:55:46.426433Z"
    },
    "papermill": {
     "duration": 0.016571,
     "end_time": "2022-11-02T17:55:46.429514",
     "exception": false,
     "start_time": "2022-11-02T17:55:46.412943",
     "status": "completed"
    },
    "tags": []
   },
   "outputs": [
    {
     "name": "stdout",
     "output_type": "stream",
     "text": [
      "*Both Class Probabilities\n",
      "\n",
      "[[0.43336675 0.56663325]\n",
      " [0.49632048 0.50367952]\n",
      " [0.46968869 0.53031131]\n",
      " ...\n",
      " [0.4087237  0.5912763 ]\n",
      " [0.76973804 0.23026196]\n",
      " [0.36961841 0.63038159]]\n",
      "\n",
      "**Positive Class Only\n",
      "\n",
      "[0.56663325 0.50367952 0.53031131 ... 0.5912763  0.23026196 0.63038159]\n"
     ]
    }
   ],
   "source": [
    "# Gives predicted Probabilities for both Positive and Negative\n",
    "print('*Both Class Probabilities')\n",
    "print('')\n",
    "print(y_predicted_proba)\n",
    "\n",
    "# Predict Probablities - Positive Class\n",
    "print('')\n",
    "print('**Positive Class Only')\n",
    "print('')\n",
    "print(y_predicted_proba[:,1])"
   ]
  },
  {
   "cell_type": "code",
   "execution_count": 4,
   "id": "0ff11957",
   "metadata": {
    "execution": {
     "iopub.execute_input": "2022-11-02T17:55:46.445409Z",
     "iopub.status.busy": "2022-11-02T17:55:46.444742Z",
     "iopub.status.idle": "2022-11-02T17:55:46.454906Z",
     "shell.execute_reply": "2022-11-02T17:55:46.454170Z"
    },
    "papermill": {
     "duration": 0.020755,
     "end_time": "2022-11-02T17:55:46.457050",
     "exception": false,
     "start_time": "2022-11-02T17:55:46.436295",
     "status": "completed"
    },
    "tags": []
   },
   "outputs": [
    {
     "data": {
      "text/html": [
       "<div>\n",
       "<style scoped>\n",
       "    .dataframe tbody tr th:only-of-type {\n",
       "        vertical-align: middle;\n",
       "    }\n",
       "\n",
       "    .dataframe tbody tr th {\n",
       "        vertical-align: top;\n",
       "    }\n",
       "\n",
       "    .dataframe thead th {\n",
       "        text-align: right;\n",
       "    }\n",
       "</style>\n",
       "<table border=\"1\" class=\"dataframe\">\n",
       "  <thead>\n",
       "    <tr style=\"text-align: right;\">\n",
       "      <th></th>\n",
       "      <th>y Actual</th>\n",
       "      <th>y Predicted</th>\n",
       "    </tr>\n",
       "  </thead>\n",
       "  <tbody>\n",
       "    <tr>\n",
       "      <th>0</th>\n",
       "      <td>1</td>\n",
       "      <td>0.566633</td>\n",
       "    </tr>\n",
       "    <tr>\n",
       "      <th>1</th>\n",
       "      <td>1</td>\n",
       "      <td>0.503680</td>\n",
       "    </tr>\n",
       "    <tr>\n",
       "      <th>2</th>\n",
       "      <td>0</td>\n",
       "      <td>0.530311</td>\n",
       "    </tr>\n",
       "    <tr>\n",
       "      <th>3</th>\n",
       "      <td>0</td>\n",
       "      <td>0.601572</td>\n",
       "    </tr>\n",
       "    <tr>\n",
       "      <th>4</th>\n",
       "      <td>0</td>\n",
       "      <td>0.526532</td>\n",
       "    </tr>\n",
       "  </tbody>\n",
       "</table>\n",
       "</div>"
      ],
      "text/plain": [
       "   y Actual  y Predicted\n",
       "0         1     0.566633\n",
       "1         1     0.503680\n",
       "2         0     0.530311\n",
       "3         0     0.601572\n",
       "4         0     0.526532"
      ]
     },
     "execution_count": 4,
     "metadata": {},
     "output_type": "execute_result"
    }
   ],
   "source": [
    "# Predict Actual vs Predicted Probabilities\n",
    "pd.DataFrame({\n",
    "    'y Actual' : y_actual,\n",
    "    'y Predicted' : y_predicted_proba[:,1]\n",
    "}).head()"
   ]
  },
  {
   "cell_type": "markdown",
   "id": "8ec67d3b",
   "metadata": {
    "papermill": {
     "duration": 0.006789,
     "end_time": "2022-11-02T17:55:46.471058",
     "exception": false,
     "start_time": "2022-11-02T17:55:46.464269",
     "status": "completed"
    },
    "tags": []
   },
   "source": [
    "# Classification Performance Metrics "
   ]
  },
  {
   "cell_type": "markdown",
   "id": "ea2b9ca5",
   "metadata": {
    "papermill": {
     "duration": 0.006757,
     "end_time": "2022-11-02T17:55:46.485373",
     "exception": false,
     "start_time": "2022-11-02T17:55:46.478616",
     "status": "completed"
    },
    "tags": []
   },
   "source": [
    "# Check Balance of Classes - train data"
   ]
  },
  {
   "cell_type": "code",
   "execution_count": 5,
   "id": "efaabbcb",
   "metadata": {
    "execution": {
     "iopub.execute_input": "2022-11-02T17:55:46.501076Z",
     "iopub.status.busy": "2022-11-02T17:55:46.500663Z",
     "iopub.status.idle": "2022-11-02T17:55:46.718836Z",
     "shell.execute_reply": "2022-11-02T17:55:46.717714Z"
    },
    "papermill": {
     "duration": 0.228977,
     "end_time": "2022-11-02T17:55:46.721278",
     "exception": false,
     "start_time": "2022-11-02T17:55:46.492301",
     "status": "completed"
    },
    "tags": []
   },
   "outputs": [
    {
     "data": {
      "text/plain": [
       "<AxesSubplot:>"
      ]
     },
     "execution_count": 5,
     "metadata": {},
     "output_type": "execute_result"
    },
    {
     "data": {
      "image/png": "[encoded data removed]",
      "text/plain": [
       "<Figure size 432x288 with 1 Axes>"
      ]
     },
     "metadata": {
      "needs_background": "light"
     },
     "output_type": "display_data"
    }
   ],
   "source": [
    "train['dpnm'].value_counts().plot.bar()\n",
    "\n",
    "# imbalanced classes\n",
    "# case 1 : Are positive classes more important?\n",
    "# case 2 : Are both classes equally important?"
   ]
  },
  {
   "cell_type": "markdown",
   "id": "9f0c445a",
   "metadata": {
    "papermill": {
     "duration": 0.006938,
     "end_time": "2022-11-02T17:55:46.735426",
     "exception": false,
     "start_time": "2022-11-02T17:55:46.728488",
     "status": "completed"
    },
    "tags": []
   },
   "source": [
    "# 1/ Based on Class (Yes/No)"
   ]
  },
  {
   "cell_type": "markdown",
   "id": "5c494596",
   "metadata": {
    "papermill": {
     "duration": 0.006894,
     "end_time": "2022-11-02T17:55:46.749573",
     "exception": false,
     "start_time": "2022-11-02T17:55:46.742679",
     "status": "completed"
    },
    "tags": []
   },
   "source": [
    "# 1.1/ Calculate Accuracy"
   ]
  },
  {
   "cell_type": "code",
   "execution_count": 6,
   "id": "8e5ab8d8",
   "metadata": {
    "execution": {
     "iopub.execute_input": "2022-11-02T17:55:46.766106Z",
     "iopub.status.busy": "2022-11-02T17:55:46.765274Z",
     "iopub.status.idle": "2022-11-02T17:55:46.784367Z",
     "shell.execute_reply": "2022-11-02T17:55:46.783170Z"
    },
    "papermill": {
     "duration": 0.031276,
     "end_time": "2022-11-02T17:55:46.788022",
     "exception": false,
     "start_time": "2022-11-02T17:55:46.756746",
     "status": "completed"
    },
    "tags": []
   },
   "outputs": [
    {
     "name": "stdout",
     "output_type": "stream",
     "text": [
      "0.5550333333333334\n"
     ]
    }
   ],
   "source": [
    "# Method 1 : Use LogisticRegression method\n",
    "# https://scikit-learn.org/stable/modules/generated/sklearn.linear_model.LogisticRegression.html\n",
    "\n",
    "print(lr.score(X,y_actual))"
   ]
  },
  {
   "cell_type": "code",
   "execution_count": 7,
   "id": "dcaa3f2c",
   "metadata": {
    "execution": {
     "iopub.execute_input": "2022-11-02T17:55:46.827609Z",
     "iopub.status.busy": "2022-11-02T17:55:46.826949Z",
     "iopub.status.idle": "2022-11-02T17:55:46.840799Z",
     "shell.execute_reply": "2022-11-02T17:55:46.839554Z"
    },
    "papermill": {
     "duration": 0.037929,
     "end_time": "2022-11-02T17:55:46.844480",
     "exception": false,
     "start_time": "2022-11-02T17:55:46.806551",
     "status": "completed"
    },
    "tags": []
   },
   "outputs": [
    {
     "name": "stdout",
     "output_type": "stream",
     "text": [
      "0.5550333333333334\n"
     ]
    }
   ],
   "source": [
    "# Method 2 : Use sklearn.metrics\n",
    "# https://scikit-learn.org/stable/modules/model_evaluation.html#classification-metrics\n",
    "\n",
    "# Import metric method\n",
    "from sklearn.metrics import accuracy_score\n",
    "\n",
    "print(accuracy_score(y_actual, y_predicted))"
   ]
  },
  {
   "cell_type": "markdown",
   "id": "00ea1061",
   "metadata": {
    "papermill": {
     "duration": 0.017915,
     "end_time": "2022-11-02T17:55:46.881192",
     "exception": false,
     "start_time": "2022-11-02T17:55:46.863277",
     "status": "completed"
    },
    "tags": []
   },
   "source": [
    "# 1.2/ Recall"
   ]
  },
  {
   "cell_type": "code",
   "execution_count": 8,
   "id": "caebfb6f",
   "metadata": {
    "execution": {
     "iopub.execute_input": "2022-11-02T17:55:46.906817Z",
     "iopub.status.busy": "2022-11-02T17:55:46.906453Z",
     "iopub.status.idle": "2022-11-02T17:55:46.925207Z",
     "shell.execute_reply": "2022-11-02T17:55:46.924180Z"
    },
    "papermill": {
     "duration": 0.029617,
     "end_time": "2022-11-02T17:55:46.927328",
     "exception": false,
     "start_time": "2022-11-02T17:55:46.897711",
     "status": "completed"
    },
    "tags": []
   },
   "outputs": [
    {
     "name": "stdout",
     "output_type": "stream",
     "text": [
      "0.72166968053044\n"
     ]
    }
   ],
   "source": [
    "# Import metric method\n",
    "from sklearn.metrics import recall_score\n",
    "\n",
    "print(recall_score(y_actual, y_predicted))"
   ]
  },
  {
   "cell_type": "markdown",
   "id": "e12e28bf",
   "metadata": {
    "papermill": {
     "duration": 0.010186,
     "end_time": "2022-11-02T17:55:46.946668",
     "exception": false,
     "start_time": "2022-11-02T17:55:46.936482",
     "status": "completed"
    },
    "tags": []
   },
   "source": [
    "# 1.3/ Precision"
   ]
  },
  {
   "cell_type": "code",
   "execution_count": 9,
   "id": "57175998",
   "metadata": {
    "execution": {
     "iopub.execute_input": "2022-11-02T17:55:46.967070Z",
     "iopub.status.busy": "2022-11-02T17:55:46.965921Z",
     "iopub.status.idle": "2022-11-02T17:55:46.993351Z",
     "shell.execute_reply": "2022-11-02T17:55:46.991387Z"
    },
    "papermill": {
     "duration": 0.040705,
     "end_time": "2022-11-02T17:55:46.996813",
     "exception": false,
     "start_time": "2022-11-02T17:55:46.956108",
     "status": "completed"
    },
    "tags": []
   },
   "outputs": [
    {
     "name": "stdout",
     "output_type": "stream",
     "text": [
      "0.2939659934933399\n"
     ]
    }
   ],
   "source": [
    "# Import metric method\n",
    "from sklearn.metrics import precision_score\n",
    "\n",
    "print(precision_score(y_actual, y_predicted))"
   ]
  },
  {
   "cell_type": "markdown",
   "id": "36a0c083",
   "metadata": {
    "papermill": {
     "duration": 0.00786,
     "end_time": "2022-11-02T17:55:47.014590",
     "exception": false,
     "start_time": "2022-11-02T17:55:47.006730",
     "status": "completed"
    },
    "tags": []
   },
   "source": [
    "# 1.4/ f1 Score"
   ]
  },
  {
   "cell_type": "code",
   "execution_count": 10,
   "id": "c8d1aeba",
   "metadata": {
    "execution": {
     "iopub.execute_input": "2022-11-02T17:55:47.037952Z",
     "iopub.status.busy": "2022-11-02T17:55:47.037304Z",
     "iopub.status.idle": "2022-11-02T17:55:47.057034Z",
     "shell.execute_reply": "2022-11-02T17:55:47.055839Z"
    },
    "papermill": {
     "duration": 0.033771,
     "end_time": "2022-11-02T17:55:47.059340",
     "exception": false,
     "start_time": "2022-11-02T17:55:47.025569",
     "status": "completed"
    },
    "tags": []
   },
   "outputs": [
    {
     "name": "stdout",
     "output_type": "stream",
     "text": [
      "0.41776071880315785\n"
     ]
    }
   ],
   "source": [
    "# Import metric method\n",
    "from sklearn.metrics import f1_score\n",
    "\n",
    "print(f1_score(y_actual, y_predicted))"
   ]
  },
  {
   "cell_type": "markdown",
   "id": "ad5dde73",
   "metadata": {
    "papermill": {
     "duration": 0.00776,
     "end_time": "2022-11-02T17:55:47.075079",
     "exception": false,
     "start_time": "2022-11-02T17:55:47.067319",
     "status": "completed"
    },
    "tags": []
   },
   "source": [
    "# 1.5/ Classification Report - Combines Accuracy/Precision/Recall/f1 score"
   ]
  },
  {
   "cell_type": "code",
   "execution_count": 11,
   "id": "764f6bdd",
   "metadata": {
    "execution": {
     "iopub.execute_input": "2022-11-02T17:55:47.092808Z",
     "iopub.status.busy": "2022-11-02T17:55:47.092445Z",
     "iopub.status.idle": "2022-11-02T17:55:47.153637Z",
     "shell.execute_reply": "2022-11-02T17:55:47.152402Z"
    },
    "papermill": {
     "duration": 0.072948,
     "end_time": "2022-11-02T17:55:47.156033",
     "exception": false,
     "start_time": "2022-11-02T17:55:47.083085",
     "status": "completed"
    },
    "tags": []
   },
   "outputs": [
    {
     "name": "stdout",
     "output_type": "stream",
     "text": [
      "              precision    recall  f1-score   support\n",
      "\n",
      "           0       0.87      0.51      0.64     23364\n",
      "           1       0.29      0.72      0.42      6636\n",
      "\n",
      "    accuracy                           0.56     30000\n",
      "   macro avg       0.58      0.61      0.53     30000\n",
      "weighted avg       0.74      0.56      0.59     30000\n",
      "\n"
     ]
    }
   ],
   "source": [
    "# Import metric method\n",
    "from sklearn.metrics import classification_report\n",
    "\n",
    "print(classification_report(y_actual, y_predicted))"
   ]
  },
  {
   "cell_type": "markdown",
   "id": "f28d8fbc",
   "metadata": {
    "papermill": {
     "duration": 0.007514,
     "end_time": "2022-11-02T17:55:47.171316",
     "exception": false,
     "start_time": "2022-11-02T17:55:47.163802",
     "status": "completed"
    },
    "tags": []
   },
   "source": [
    "# 2/ Based on Probabilities ( score from 0.0 to 1.0 )"
   ]
  },
  {
   "cell_type": "markdown",
   "id": "5ae1c566",
   "metadata": {
    "papermill": {
     "duration": 0.00765,
     "end_time": "2022-11-02T17:55:47.187176",
     "exception": false,
     "start_time": "2022-11-02T17:55:47.179526",
     "status": "completed"
    },
    "tags": []
   },
   "source": [
    "# 2.1/ roc auc score"
   ]
  },
  {
   "cell_type": "code",
   "execution_count": 12,
   "id": "1a39e004",
   "metadata": {
    "execution": {
     "iopub.execute_input": "2022-11-02T17:55:47.205034Z",
     "iopub.status.busy": "2022-11-02T17:55:47.204622Z",
     "iopub.status.idle": "2022-11-02T17:55:47.222294Z",
     "shell.execute_reply": "2022-11-02T17:55:47.221209Z"
    },
    "papermill": {
     "duration": 0.029948,
     "end_time": "2022-11-02T17:55:47.224957",
     "exception": false,
     "start_time": "2022-11-02T17:55:47.195009",
     "status": "completed"
    },
    "tags": []
   },
   "outputs": [
    {
     "name": "stdout",
     "output_type": "stream",
     "text": [
      "0.6558385283913604\n"
     ]
    }
   ],
   "source": [
    "# Import metric method\n",
    "from sklearn.metrics import roc_auc_score\n",
    "\n",
    "print(roc_auc_score(y_actual, y_predicted_proba[:,1]))\n",
    "\n",
    "# Can also plotted using roc auc curve\n",
    "# used when both classes are important"
   ]
  },
  {
   "cell_type": "markdown",
   "id": "f9503a6e",
   "metadata": {
    "papermill": {
     "duration": 0.007475,
     "end_time": "2022-11-02T17:55:47.240512",
     "exception": false,
     "start_time": "2022-11-02T17:55:47.233037",
     "status": "completed"
    },
    "tags": []
   },
   "source": [
    "# 3/ Print Score with proper formatting"
   ]
  },
  {
   "cell_type": "code",
   "execution_count": 13,
   "id": "9959a940",
   "metadata": {
    "execution": {
     "iopub.execute_input": "2022-11-02T17:55:47.257684Z",
     "iopub.status.busy": "2022-11-02T17:55:47.257320Z",
     "iopub.status.idle": "2022-11-02T17:55:47.266367Z",
     "shell.execute_reply": "2022-11-02T17:55:47.264839Z"
    },
    "papermill": {
     "duration": 0.020147,
     "end_time": "2022-11-02T17:55:47.268400",
     "exception": false,
     "start_time": "2022-11-02T17:55:47.248253",
     "status": "completed"
    },
    "tags": []
   },
   "outputs": [
    {
     "name": "stdout",
     "output_type": "stream",
     "text": [
      "0.5550333333333334\n"
     ]
    }
   ],
   "source": [
    "# assign to a variable\n",
    "\n",
    "train_accuracy = accuracy_score(y_actual, y_predicted)\n",
    "\n",
    "print(train_accuracy)"
   ]
  },
  {
   "cell_type": "code",
   "execution_count": 14,
   "id": "7a988012",
   "metadata": {
    "execution": {
     "iopub.execute_input": "2022-11-02T17:55:47.285675Z",
     "iopub.status.busy": "2022-11-02T17:55:47.285318Z",
     "iopub.status.idle": "2022-11-02T17:55:47.290691Z",
     "shell.execute_reply": "2022-11-02T17:55:47.289470Z"
    },
    "papermill": {
     "duration": 0.016761,
     "end_time": "2022-11-02T17:55:47.293035",
     "exception": false,
     "start_time": "2022-11-02T17:55:47.276274",
     "status": "completed"
    },
    "tags": []
   },
   "outputs": [
    {
     "name": "stdout",
     "output_type": "stream",
     "text": [
      "0.56\n"
     ]
    }
   ],
   "source": [
    "# Using %\n",
    "# 1/ Provide the Decimals in Quote followed by %\n",
    "# 2/ Provide the metrics (Variables or direction function)\n",
    "\n",
    "print('%.2f' % train_accuracy)"
   ]
  },
  {
   "cell_type": "code",
   "execution_count": 15,
   "id": "05cb3d2d",
   "metadata": {
    "execution": {
     "iopub.execute_input": "2022-11-02T17:55:47.310336Z",
     "iopub.status.busy": "2022-11-02T17:55:47.309931Z",
     "iopub.status.idle": "2022-11-02T17:55:47.315197Z",
     "shell.execute_reply": "2022-11-02T17:55:47.314211Z"
    },
    "papermill": {
     "duration": 0.016385,
     "end_time": "2022-11-02T17:55:47.317114",
     "exception": false,
     "start_time": "2022-11-02T17:55:47.300729",
     "status": "completed"
    },
    "tags": []
   },
   "outputs": [
    {
     "name": "stdout",
     "output_type": "stream",
     "text": [
      "0.56\n"
     ]
    }
   ],
   "source": [
    "# Using format\n",
    "# 1/ Provide the Decimals in Curly Brackets followed by .format()\n",
    "# 2/ Provide the metrics (Variables or direction function)\n",
    "\n",
    "print('{0:.2f}'.format(train_accuracy))"
   ]
  },
  {
   "cell_type": "code",
   "execution_count": 16,
   "id": "110fce0d",
   "metadata": {
    "execution": {
     "iopub.execute_input": "2022-11-02T17:55:47.334335Z",
     "iopub.status.busy": "2022-11-02T17:55:47.333934Z",
     "iopub.status.idle": "2022-11-02T17:55:47.339579Z",
     "shell.execute_reply": "2022-11-02T17:55:47.338294Z"
    },
    "papermill": {
     "duration": 0.016812,
     "end_time": "2022-11-02T17:55:47.341818",
     "exception": false,
     "start_time": "2022-11-02T17:55:47.325006",
     "status": "completed"
    },
    "tags": []
   },
   "outputs": [
    {
     "name": "stdout",
     "output_type": "stream",
     "text": [
      "Train Accuracy 0.56\n"
     ]
    }
   ],
   "source": [
    "# Print with text\n",
    "print('Train Accuracy {0:.2f}'.format(train_accuracy))"
   ]
  },
  {
   "cell_type": "markdown",
   "id": "7387b890",
   "metadata": {
    "papermill": {
     "duration": 0.007687,
     "end_time": "2022-11-02T17:55:47.357411",
     "exception": false,
     "start_time": "2022-11-02T17:55:47.349724",
     "status": "completed"
    },
    "tags": []
   },
   "source": [
    "# Next\n",
    "- 1/ Confusion Matrix\n",
    "- 2/ roc auc plot"
   ]
  }
 ],
 "metadata": {
  "kernelspec": {
   "display_name": "Python 3",
   "language": "python",
   "name": "python3"
  },
  "language_info": {
   "codemirror_mode": {
    "name": "ipython",
    "version": 3
   },
   "file_extension": ".py",
   "mimetype": "text/x-python",
   "name": "python",
   "nbconvert_exporter": "python",
   "pygments_lexer": "ipython3",
   "version": "3.7.12"
  },
  "papermill": {
   "default_parameters": {},
   "duration": 12.505092,
   "end_time": "2022-11-02T17:55:48.086747",
   "environment_variables": {},
   "exception": null,
   "input_path": "__notebook__.ipynb",
   "output_path": "__notebook__.ipynb",
   "parameters": {},
   "start_time": "2022-11-02T17:55:35.581655",
   "version": "2.3.4"
  }
 },
 "nbformat": 4,
 "nbformat_minor": 5
}

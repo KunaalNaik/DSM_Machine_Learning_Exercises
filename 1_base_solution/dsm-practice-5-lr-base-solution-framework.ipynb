{
 "cells": [
  {
   "cell_type": "markdown",
   "id": "49cfb503",
   "metadata": {
    "papermill": {
     "duration": 0.006443,
     "end_time": "2022-10-27T04:05:27.044018",
     "exception": false,
     "start_time": "2022-10-27T04:05:27.037575",
     "status": "completed"
    },
    "tags": []
   },
   "source": [
    "<a href=\"https://www.kaggle.com/code/funxexcel/p1-lr-base-solution-framework?scriptVersionId=109244171\" target=\"_blank\"><img align=\"left\" alt=\"Kaggle\" title=\"Open in Kaggle\" src=\"https://kaggle.com/static/images/open-in-kaggle.svg\"></a>"
   ]
  },
  {
   "cell_type": "markdown",
   "id": "fc57038f",
   "metadata": {
    "papermill": {
     "duration": 0.004862,
     "end_time": "2022-10-27T04:05:27.054274",
     "exception": false,
     "start_time": "2022-10-27T04:05:27.049412",
     "status": "completed"
    },
    "tags": []
   },
   "source": [
    "# Logistic Regression Base Solution Framework\n",
    "- 1/ Import Libraries\n",
    "- 2/ Import Data - train data(multiple), test data, combo of data( linked with ID )\n",
    "    - CSV (Delimited), Excel, Server(SQL Server, SQL, Oracle, Azure, AWS), JSON\n",
    "- 3/ 3/ Check Features (columns) and their Data Types\n",
    "- 4/ Split columns - into X and y \n",
    "- 5/ Split Data into train & test\n",
    "- 6/ Data Transformation\n",
    "    - Encoding Categorical Columns - Dummy *\n",
    "    - Numerical Transformation (not compulsary)\n",
    "- 7/ Build Model (train data) - Logistic Regression\n",
    "    - 1/ Initiation an Instance\n",
    "    - 2/ Fit Model - X_train, y_train\n",
    "- 8/ Make Predictions\n",
    "    - Predict y for Train Data (Bias)\n",
    "    - Predict y for Test Data (Variance)\n",
    "- 9/ Calculate Performance Metrics\n",
    "    - Accuracy\n",
    "    - ROC AUC Curve\n",
    "    - F1 Score"
   ]
  },
  {
   "cell_type": "markdown",
   "id": "727a4901",
   "metadata": {
    "papermill": {
     "duration": 0.004934,
     "end_time": "2022-10-27T04:05:27.064326",
     "exception": false,
     "start_time": "2022-10-27T04:05:27.059392",
     "status": "completed"
    },
    "tags": []
   },
   "source": [
    "# 1/ Import libraries"
   ]
  },
  {
   "cell_type": "code",
   "execution_count": 1,
   "id": "4e56a34b",
   "metadata": {
    "execution": {
     "iopub.execute_input": "2022-10-27T04:05:27.077090Z",
     "iopub.status.busy": "2022-10-27T04:05:27.076091Z",
     "iopub.status.idle": "2022-10-27T04:05:27.082155Z",
     "shell.execute_reply": "2022-10-27T04:05:27.081052Z"
    },
    "papermill": {
     "duration": 0.015324,
     "end_time": "2022-10-27T04:05:27.084789",
     "exception": false,
     "start_time": "2022-10-27T04:05:27.069465",
     "status": "completed"
    },
    "tags": []
   },
   "outputs": [],
   "source": [
    "# Write code to import numpy, pandas\n",
    "\n",
    "\n",
    "# Write code to import train test split method\n",
    "\n",
    "\n",
    "# Write code to import logistic regression model\n",
    "\n",
    "\n",
    "# Write code to import classfication report\n",
    "\n"
   ]
  },
  {
   "cell_type": "markdown",
   "id": "4ddc9c45",
   "metadata": {
    "papermill": {
     "duration": 0.005013,
     "end_time": "2022-10-27T04:05:27.095136",
     "exception": false,
     "start_time": "2022-10-27T04:05:27.090123",
     "status": "completed"
    },
    "tags": []
   },
   "source": [
    "# 2/ Import Data"
   ]
  },
  {
   "cell_type": "code",
   "execution_count": 2,
   "id": "14ef2e14",
   "metadata": {
    "execution": {
     "iopub.execute_input": "2022-10-27T04:05:27.107498Z",
     "iopub.status.busy": "2022-10-27T04:05:27.107076Z",
     "iopub.status.idle": "2022-10-27T04:05:27.111311Z",
     "shell.execute_reply": "2022-10-27T04:05:27.110211Z"
    },
    "papermill": {
     "duration": 0.013132,
     "end_time": "2022-10-27T04:05:27.113557",
     "exception": false,
     "start_time": "2022-10-27T04:05:27.100425",
     "status": "completed"
    },
    "tags": []
   },
   "outputs": [],
   "source": [
    "# Write a code to import train and test data\n",
    "# If test data - does not exist import only train data\n",
    "# train = "
   ]
  },
  {
   "cell_type": "markdown",
   "id": "bd2e3add",
   "metadata": {
    "papermill": {
     "duration": 0.005074,
     "end_time": "2022-10-27T04:05:27.123883",
     "exception": false,
     "start_time": "2022-10-27T04:05:27.118809",
     "status": "completed"
    },
    "tags": []
   },
   "source": [
    "# 3/ Check Features (columns) and their Data Types"
   ]
  },
  {
   "cell_type": "code",
   "execution_count": 3,
   "id": "fef7b2e3",
   "metadata": {
    "execution": {
     "iopub.execute_input": "2022-10-27T04:05:27.136245Z",
     "iopub.status.busy": "2022-10-27T04:05:27.135642Z",
     "iopub.status.idle": "2022-10-27T04:05:27.140241Z",
     "shell.execute_reply": "2022-10-27T04:05:27.139519Z"
    },
    "papermill": {
     "duration": 0.013228,
     "end_time": "2022-10-27T04:05:27.142275",
     "exception": false,
     "start_time": "2022-10-27T04:05:27.129047",
     "status": "completed"
    },
    "tags": []
   },
   "outputs": [],
   "source": [
    "# Write a code to check the first 5 rows of the data\n"
   ]
  },
  {
   "cell_type": "code",
   "execution_count": 4,
   "id": "d5452de8",
   "metadata": {
    "execution": {
     "iopub.execute_input": "2022-10-27T04:05:27.155889Z",
     "iopub.status.busy": "2022-10-27T04:05:27.155265Z",
     "iopub.status.idle": "2022-10-27T04:05:27.159576Z",
     "shell.execute_reply": "2022-10-27T04:05:27.158836Z"
    },
    "papermill": {
     "duration": 0.012668,
     "end_time": "2022-10-27T04:05:27.161551",
     "exception": false,
     "start_time": "2022-10-27T04:05:27.148883",
     "status": "completed"
    },
    "tags": []
   },
   "outputs": [],
   "source": [
    "# Write a code to check the data type for each columns\n"
   ]
  },
  {
   "cell_type": "markdown",
   "id": "48447c02",
   "metadata": {
    "papermill": {
     "duration": 0.004745,
     "end_time": "2022-10-27T04:05:27.171343",
     "exception": false,
     "start_time": "2022-10-27T04:05:27.166598",
     "status": "completed"
    },
    "tags": []
   },
   "source": [
    "# 4/ Split columns into y and X datasets"
   ]
  },
  {
   "cell_type": "code",
   "execution_count": 5,
   "id": "0138b7a7",
   "metadata": {
    "execution": {
     "iopub.execute_input": "2022-10-27T04:05:27.183141Z",
     "iopub.status.busy": "2022-10-27T04:05:27.182505Z",
     "iopub.status.idle": "2022-10-27T04:05:27.186914Z",
     "shell.execute_reply": "2022-10-27T04:05:27.186018Z"
    },
    "papermill": {
     "duration": 0.012662,
     "end_time": "2022-10-27T04:05:27.188933",
     "exception": false,
     "start_time": "2022-10-27T04:05:27.176271",
     "status": "completed"
    },
    "tags": []
   },
   "outputs": [],
   "source": [
    "# Write code to hold target feature in y and all features except (ID features or features that hold unique values)\n",
    "# y = \n",
    "# X = "
   ]
  },
  {
   "cell_type": "markdown",
   "id": "ca2df915",
   "metadata": {
    "papermill": {
     "duration": 0.004725,
     "end_time": "2022-10-27T04:05:27.198786",
     "exception": false,
     "start_time": "2022-10-27T04:05:27.194061",
     "status": "completed"
    },
    "tags": []
   },
   "source": [
    "# 5/ Split data into Train and Test split"
   ]
  },
  {
   "cell_type": "code",
   "execution_count": 6,
   "id": "f671d5e5",
   "metadata": {
    "execution": {
     "iopub.execute_input": "2022-10-27T04:05:27.210427Z",
     "iopub.status.busy": "2022-10-27T04:05:27.210042Z",
     "iopub.status.idle": "2022-10-27T04:05:27.214279Z",
     "shell.execute_reply": "2022-10-27T04:05:27.213264Z"
    },
    "papermill": {
     "duration": 0.012655,
     "end_time": "2022-10-27T04:05:27.216346",
     "exception": false,
     "start_time": "2022-10-27T04:05:27.203691",
     "status": "completed"
    },
    "tags": []
   },
   "outputs": [],
   "source": [
    "# Write a code to call the train_test_split function and partition y, X \n",
    "# into X_train, X_test, y_train, y_test\n",
    "# Do a 80% - 20% split\n",
    "# Use a random state of your choice\n"
   ]
  },
  {
   "cell_type": "markdown",
   "id": "5e770ba0",
   "metadata": {
    "papermill": {
     "duration": 0.004898,
     "end_time": "2022-10-27T04:05:27.226258",
     "exception": false,
     "start_time": "2022-10-27T04:05:27.221360",
     "status": "completed"
    },
    "tags": []
   },
   "source": [
    "# 6/ Data Transformation"
   ]
  },
  {
   "cell_type": "code",
   "execution_count": 7,
   "id": "1ea958b7",
   "metadata": {
    "execution": {
     "iopub.execute_input": "2022-10-27T04:05:27.238173Z",
     "iopub.status.busy": "2022-10-27T04:05:27.237756Z",
     "iopub.status.idle": "2022-10-27T04:05:27.241922Z",
     "shell.execute_reply": "2022-10-27T04:05:27.240819Z"
    },
    "papermill": {
     "duration": 0.012991,
     "end_time": "2022-10-27T04:05:27.244289",
     "exception": false,
     "start_time": "2022-10-27T04:05:27.231298",
     "status": "completed"
    },
    "tags": []
   },
   "outputs": [],
   "source": [
    "# Write a code to get Dummy variables for X_train data \n",
    "\n",
    "\n",
    "# Write a code to get Dummy Variables for X_test data\n",
    "\n"
   ]
  },
  {
   "cell_type": "markdown",
   "id": "da6236ee",
   "metadata": {
    "papermill": {
     "duration": 0.004873,
     "end_time": "2022-10-27T04:05:27.254489",
     "exception": false,
     "start_time": "2022-10-27T04:05:27.249616",
     "status": "completed"
    },
    "tags": []
   },
   "source": [
    "# 7/ Build Model (train data) - Logistic Regression"
   ]
  },
  {
   "cell_type": "code",
   "execution_count": 8,
   "id": "2f340292",
   "metadata": {
    "execution": {
     "iopub.execute_input": "2022-10-27T04:05:27.266794Z",
     "iopub.status.busy": "2022-10-27T04:05:27.266369Z",
     "iopub.status.idle": "2022-10-27T04:05:27.270609Z",
     "shell.execute_reply": "2022-10-27T04:05:27.269617Z"
    },
    "papermill": {
     "duration": 0.012916,
     "end_time": "2022-10-27T04:05:27.272693",
     "exception": false,
     "start_time": "2022-10-27T04:05:27.259777",
     "status": "completed"
    },
    "tags": []
   },
   "outputs": [],
   "source": [
    "# Write a code to create an Intance of Logistic Regression\n",
    "\n"
   ]
  },
  {
   "cell_type": "code",
   "execution_count": 9,
   "id": "cab4629b",
   "metadata": {
    "execution": {
     "iopub.execute_input": "2022-10-27T04:05:27.285121Z",
     "iopub.status.busy": "2022-10-27T04:05:27.284495Z",
     "iopub.status.idle": "2022-10-27T04:05:27.287986Z",
     "shell.execute_reply": "2022-10-27T04:05:27.287311Z"
    },
    "papermill": {
     "duration": 0.011869,
     "end_time": "2022-10-27T04:05:27.289957",
     "exception": false,
     "start_time": "2022-10-27T04:05:27.278088",
     "status": "completed"
    },
    "tags": []
   },
   "outputs": [],
   "source": [
    "# Write a code to Fit Logistic Regression\n",
    "\n"
   ]
  },
  {
   "cell_type": "markdown",
   "id": "f54317e0",
   "metadata": {
    "papermill": {
     "duration": 0.005144,
     "end_time": "2022-10-27T04:05:27.300241",
     "exception": false,
     "start_time": "2022-10-27T04:05:27.295097",
     "status": "completed"
    },
    "tags": []
   },
   "source": [
    "# 8/ Make Predictions"
   ]
  },
  {
   "cell_type": "code",
   "execution_count": 10,
   "id": "e27a99d6",
   "metadata": {
    "execution": {
     "iopub.execute_input": "2022-10-27T04:05:27.312502Z",
     "iopub.status.busy": "2022-10-27T04:05:27.311882Z",
     "iopub.status.idle": "2022-10-27T04:05:27.315386Z",
     "shell.execute_reply": "2022-10-27T04:05:27.314680Z"
    },
    "papermill": {
     "duration": 0.01195,
     "end_time": "2022-10-27T04:05:27.317298",
     "exception": false,
     "start_time": "2022-10-27T04:05:27.305348",
     "status": "completed"
    },
    "tags": []
   },
   "outputs": [],
   "source": [
    "# Write a code to make predicitions on X_train data\n",
    "# y_train_predicted = \n",
    "\n",
    "# Write a code to make predicitions on X_test data\n",
    "# y_test_predicted = "
   ]
  },
  {
   "cell_type": "markdown",
   "id": "65627a53",
   "metadata": {
    "papermill": {
     "duration": 0.005042,
     "end_time": "2022-10-27T04:05:27.327335",
     "exception": false,
     "start_time": "2022-10-27T04:05:27.322293",
     "status": "completed"
    },
    "tags": []
   },
   "source": [
    "# 9/ Calculate Performance Metrics"
   ]
  },
  {
   "cell_type": "code",
   "execution_count": 11,
   "id": "ca50ef02",
   "metadata": {
    "execution": {
     "iopub.execute_input": "2022-10-27T04:05:27.339583Z",
     "iopub.status.busy": "2022-10-27T04:05:27.338988Z",
     "iopub.status.idle": "2022-10-27T04:05:27.342491Z",
     "shell.execute_reply": "2022-10-27T04:05:27.341803Z"
    },
    "papermill": {
     "duration": 0.012063,
     "end_time": "2022-10-27T04:05:27.344428",
     "exception": false,
     "start_time": "2022-10-27T04:05:27.332365",
     "status": "completed"
    },
    "tags": []
   },
   "outputs": [],
   "source": [
    "# Write a code to get the classification report (Train) for checking the performance\n"
   ]
  },
  {
   "cell_type": "code",
   "execution_count": 12,
   "id": "2b6fbc1e",
   "metadata": {
    "execution": {
     "iopub.execute_input": "2022-10-27T04:05:27.356490Z",
     "iopub.status.busy": "2022-10-27T04:05:27.356083Z",
     "iopub.status.idle": "2022-10-27T04:05:27.360652Z",
     "shell.execute_reply": "2022-10-27T04:05:27.359497Z"
    },
    "papermill": {
     "duration": 0.013092,
     "end_time": "2022-10-27T04:05:27.362686",
     "exception": false,
     "start_time": "2022-10-27T04:05:27.349594",
     "status": "completed"
    },
    "tags": []
   },
   "outputs": [],
   "source": [
    "# Write a code to get the classification report (Test) for checking the performance\n"
   ]
  },
  {
   "cell_type": "markdown",
   "id": "a8ef105c",
   "metadata": {
    "papermill": {
     "duration": 0.004904,
     "end_time": "2022-10-27T04:05:27.372812",
     "exception": false,
     "start_time": "2022-10-27T04:05:27.367908",
     "status": "completed"
    },
    "tags": []
   },
   "source": [
    "# Did you overfit the model? - If so how can you say you have overfitted?"
   ]
  }
 ],
 "metadata": {
  "kernelspec": {
   "display_name": "Python 3",
   "language": "python",
   "name": "python3"
  },
  "language_info": {
   "codemirror_mode": {
    "name": "ipython",
    "version": 3
   },
   "file_extension": ".py",
   "mimetype": "text/x-python",
   "name": "python",
   "nbconvert_exporter": "python",
   "pygments_lexer": "ipython3",
   "version": "3.7.12"
  },
  "papermill": {
   "default_parameters": {},
   "duration": 9.110784,
   "end_time": "2022-10-27T04:05:27.998344",
   "environment_variables": {},
   "exception": null,
   "input_path": "__notebook__.ipynb",
   "output_path": "__notebook__.ipynb",
   "parameters": {},
   "start_time": "2022-10-27T04:05:18.887560",
   "version": "2.3.4"
  }
 },
 "nbformat": 4,
 "nbformat_minor": 5
}

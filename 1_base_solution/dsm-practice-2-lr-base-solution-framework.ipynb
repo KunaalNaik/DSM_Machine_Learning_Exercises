{
 "cells": [
  {
   "cell_type": "markdown",
   "id": "ef35806f",
   "metadata": {
    "papermill": {
     "duration": 0.011324,
     "end_time": "2022-10-27T04:00:18.829730",
     "exception": false,
     "start_time": "2022-10-27T04:00:18.818406",
     "status": "completed"
    },
    "tags": []
   },
   "source": [
    "<a href=\"https://www.kaggle.com/code/funxexcel/p1-lr-base-solution-framework?scriptVersionId=109244171\" target=\"_blank\"><img align=\"left\" alt=\"Kaggle\" title=\"Open in Kaggle\" src=\"https://kaggle.com/static/images/open-in-kaggle.svg\"></a>"
   ]
  },
  {
   "cell_type": "markdown",
   "id": "3abbe0f6",
   "metadata": {
    "papermill": {
     "duration": 0.006459,
     "end_time": "2022-10-27T04:00:18.842672",
     "exception": false,
     "start_time": "2022-10-27T04:00:18.836213",
     "status": "completed"
    },
    "tags": []
   },
   "source": [
    "# Logistic Regression Base Solution Framework\n",
    "- 1/ Import Libraries\n",
    "- 2/ Import Data - train data(multiple), test data, combo of data( linked with ID )\n",
    "    - CSV (Delimited), Excel, Server(SQL Server, SQL, Oracle, Azure, AWS), JSON\n",
    "- 3/ 3/ Check Features (columns) and their Data Types\n",
    "- 4/ Split columns - into X and y \n",
    "- 5/ Split Data into train & test\n",
    "- 6/ Data Transformation\n",
    "    - Encoding Categorical Columns - Dummy *\n",
    "    - Numerical Transformation (not compulsary)\n",
    "- 7/ Build Model (train data) - Logistic Regression\n",
    "    - 1/ Initiation an Instance\n",
    "    - 2/ Fit Model - X_train, y_train\n",
    "- 8/ Make Predictions\n",
    "    - Predict y for Train Data (Bias)\n",
    "    - Predict y for Test Data (Variance)\n",
    "- 9/ Calculate Performance Metrics\n",
    "    - Accuracy\n",
    "    - ROC AUC Curve\n",
    "    - F1 Score"
   ]
  },
  {
   "cell_type": "markdown",
   "id": "b290b69a",
   "metadata": {
    "papermill": {
     "duration": 0.005651,
     "end_time": "2022-10-27T04:00:18.854571",
     "exception": false,
     "start_time": "2022-10-27T04:00:18.848920",
     "status": "completed"
    },
    "tags": []
   },
   "source": [
    "# 1/ Import libraries"
   ]
  },
  {
   "cell_type": "code",
   "execution_count": 1,
   "id": "00d123fb",
   "metadata": {
    "execution": {
     "iopub.execute_input": "2022-10-27T04:00:18.869743Z",
     "iopub.status.busy": "2022-10-27T04:00:18.869215Z",
     "iopub.status.idle": "2022-10-27T04:00:18.876163Z",
     "shell.execute_reply": "2022-10-27T04:00:18.874880Z"
    },
    "papermill": {
     "duration": 0.020761,
     "end_time": "2022-10-27T04:00:18.882628",
     "exception": false,
     "start_time": "2022-10-27T04:00:18.861867",
     "status": "completed"
    },
    "tags": []
   },
   "outputs": [],
   "source": [
    "# Write code to import numpy, pandas\n",
    "\n",
    "\n",
    "# Write code to import train test split method\n",
    "\n",
    "\n",
    "# Write code to import logistic regression model\n",
    "\n",
    "\n",
    "# Write code to import classfication report\n",
    "\n"
   ]
  },
  {
   "cell_type": "markdown",
   "id": "30386471",
   "metadata": {
    "papermill": {
     "duration": 0.005292,
     "end_time": "2022-10-27T04:00:18.893567",
     "exception": false,
     "start_time": "2022-10-27T04:00:18.888275",
     "status": "completed"
    },
    "tags": []
   },
   "source": [
    "# 2/ Import Data"
   ]
  },
  {
   "cell_type": "code",
   "execution_count": 2,
   "id": "fe2fca95",
   "metadata": {
    "execution": {
     "iopub.execute_input": "2022-10-27T04:00:18.907467Z",
     "iopub.status.busy": "2022-10-27T04:00:18.906792Z",
     "iopub.status.idle": "2022-10-27T04:00:18.912259Z",
     "shell.execute_reply": "2022-10-27T04:00:18.911118Z"
    },
    "papermill": {
     "duration": 0.01512,
     "end_time": "2022-10-27T04:00:18.914653",
     "exception": false,
     "start_time": "2022-10-27T04:00:18.899533",
     "status": "completed"
    },
    "tags": []
   },
   "outputs": [],
   "source": [
    "# Write a code to import train and test data\n",
    "# If test data - does not exist import only train data\n",
    "# train = "
   ]
  },
  {
   "cell_type": "markdown",
   "id": "73eb4acf",
   "metadata": {
    "papermill": {
     "duration": 0.005282,
     "end_time": "2022-10-27T04:00:18.925655",
     "exception": false,
     "start_time": "2022-10-27T04:00:18.920373",
     "status": "completed"
    },
    "tags": []
   },
   "source": [
    "# 3/ Check Features (columns) and their Data Types"
   ]
  },
  {
   "cell_type": "code",
   "execution_count": 3,
   "id": "06a3e655",
   "metadata": {
    "execution": {
     "iopub.execute_input": "2022-10-27T04:00:18.938464Z",
     "iopub.status.busy": "2022-10-27T04:00:18.937971Z",
     "iopub.status.idle": "2022-10-27T04:00:18.943435Z",
     "shell.execute_reply": "2022-10-27T04:00:18.942152Z"
    },
    "papermill": {
     "duration": 0.015164,
     "end_time": "2022-10-27T04:00:18.946243",
     "exception": false,
     "start_time": "2022-10-27T04:00:18.931079",
     "status": "completed"
    },
    "tags": []
   },
   "outputs": [],
   "source": [
    "# Write a code to check the first 5 rows of the data\n"
   ]
  },
  {
   "cell_type": "code",
   "execution_count": 4,
   "id": "6c381b48",
   "metadata": {
    "execution": {
     "iopub.execute_input": "2022-10-27T04:00:18.961046Z",
     "iopub.status.busy": "2022-10-27T04:00:18.960615Z",
     "iopub.status.idle": "2022-10-27T04:00:18.965215Z",
     "shell.execute_reply": "2022-10-27T04:00:18.963899Z"
    },
    "papermill": {
     "duration": 0.014402,
     "end_time": "2022-10-27T04:00:18.967950",
     "exception": false,
     "start_time": "2022-10-27T04:00:18.953548",
     "status": "completed"
    },
    "tags": []
   },
   "outputs": [],
   "source": [
    "# Write a code to check the data type for each columns\n"
   ]
  },
  {
   "cell_type": "markdown",
   "id": "e8d792d0",
   "metadata": {
    "papermill": {
     "duration": 0.005132,
     "end_time": "2022-10-27T04:00:18.978602",
     "exception": false,
     "start_time": "2022-10-27T04:00:18.973470",
     "status": "completed"
    },
    "tags": []
   },
   "source": [
    "# 4/ Split columns into y and X datasets"
   ]
  },
  {
   "cell_type": "code",
   "execution_count": 5,
   "id": "e7466c6b",
   "metadata": {
    "execution": {
     "iopub.execute_input": "2022-10-27T04:00:18.991136Z",
     "iopub.status.busy": "2022-10-27T04:00:18.990718Z",
     "iopub.status.idle": "2022-10-27T04:00:18.995895Z",
     "shell.execute_reply": "2022-10-27T04:00:18.994449Z"
    },
    "papermill": {
     "duration": 0.014401,
     "end_time": "2022-10-27T04:00:18.998349",
     "exception": false,
     "start_time": "2022-10-27T04:00:18.983948",
     "status": "completed"
    },
    "tags": []
   },
   "outputs": [],
   "source": [
    "# Write code to hold target feature in y and all features except (ID features or features that hold unique values)\n",
    "# y = \n",
    "# X = "
   ]
  },
  {
   "cell_type": "markdown",
   "id": "03b16dab",
   "metadata": {
    "papermill": {
     "duration": 0.005338,
     "end_time": "2022-10-27T04:00:19.010905",
     "exception": false,
     "start_time": "2022-10-27T04:00:19.005567",
     "status": "completed"
    },
    "tags": []
   },
   "source": [
    "# 5/ Split data into Train and Test split"
   ]
  },
  {
   "cell_type": "code",
   "execution_count": 6,
   "id": "78551c3b",
   "metadata": {
    "execution": {
     "iopub.execute_input": "2022-10-27T04:00:19.026637Z",
     "iopub.status.busy": "2022-10-27T04:00:19.026173Z",
     "iopub.status.idle": "2022-10-27T04:00:19.031112Z",
     "shell.execute_reply": "2022-10-27T04:00:19.029595Z"
    },
    "papermill": {
     "duration": 0.017249,
     "end_time": "2022-10-27T04:00:19.033677",
     "exception": false,
     "start_time": "2022-10-27T04:00:19.016428",
     "status": "completed"
    },
    "tags": []
   },
   "outputs": [],
   "source": [
    "# Write a code to call the train_test_split function and partition y, X \n",
    "# into X_train, X_test, y_train, y_test\n",
    "# Do a 80% - 20% split\n",
    "# Use a random state of your choice\n"
   ]
  },
  {
   "cell_type": "markdown",
   "id": "98d6328b",
   "metadata": {
    "papermill": {
     "duration": 0.005757,
     "end_time": "2022-10-27T04:00:19.046282",
     "exception": false,
     "start_time": "2022-10-27T04:00:19.040525",
     "status": "completed"
    },
    "tags": []
   },
   "source": [
    "# 6/ Data Transformation"
   ]
  },
  {
   "cell_type": "code",
   "execution_count": 7,
   "id": "406a23eb",
   "metadata": {
    "execution": {
     "iopub.execute_input": "2022-10-27T04:00:19.065070Z",
     "iopub.status.busy": "2022-10-27T04:00:19.064015Z",
     "iopub.status.idle": "2022-10-27T04:00:19.068654Z",
     "shell.execute_reply": "2022-10-27T04:00:19.067759Z"
    },
    "papermill": {
     "duration": 0.017571,
     "end_time": "2022-10-27T04:00:19.071391",
     "exception": false,
     "start_time": "2022-10-27T04:00:19.053820",
     "status": "completed"
    },
    "tags": []
   },
   "outputs": [],
   "source": [
    "# Write a code to get Dummy variables for X_train data \n",
    "\n",
    "\n",
    "# Write a code to get Dummy Variables for X_test data\n",
    "\n"
   ]
  },
  {
   "cell_type": "markdown",
   "id": "885059bf",
   "metadata": {
    "papermill": {
     "duration": 0.006443,
     "end_time": "2022-10-27T04:00:19.085949",
     "exception": false,
     "start_time": "2022-10-27T04:00:19.079506",
     "status": "completed"
    },
    "tags": []
   },
   "source": [
    "# 7/ Build Model (train data) - Logistic Regression"
   ]
  },
  {
   "cell_type": "code",
   "execution_count": 8,
   "id": "64cc2c21",
   "metadata": {
    "execution": {
     "iopub.execute_input": "2022-10-27T04:00:19.099107Z",
     "iopub.status.busy": "2022-10-27T04:00:19.098597Z",
     "iopub.status.idle": "2022-10-27T04:00:19.103353Z",
     "shell.execute_reply": "2022-10-27T04:00:19.102267Z"
    },
    "papermill": {
     "duration": 0.014297,
     "end_time": "2022-10-27T04:00:19.105765",
     "exception": false,
     "start_time": "2022-10-27T04:00:19.091468",
     "status": "completed"
    },
    "tags": []
   },
   "outputs": [],
   "source": [
    "# Write a code to create an Intance of Logistic Regression\n",
    "\n"
   ]
  },
  {
   "cell_type": "code",
   "execution_count": 9,
   "id": "39297df3",
   "metadata": {
    "execution": {
     "iopub.execute_input": "2022-10-27T04:00:19.121391Z",
     "iopub.status.busy": "2022-10-27T04:00:19.120649Z",
     "iopub.status.idle": "2022-10-27T04:00:19.124711Z",
     "shell.execute_reply": "2022-10-27T04:00:19.123616Z"
    },
    "papermill": {
     "duration": 0.013258,
     "end_time": "2022-10-27T04:00:19.126947",
     "exception": false,
     "start_time": "2022-10-27T04:00:19.113689",
     "status": "completed"
    },
    "tags": []
   },
   "outputs": [],
   "source": [
    "# Write a code to Fit Logistic Regression\n",
    "\n"
   ]
  },
  {
   "cell_type": "markdown",
   "id": "3ca4cc46",
   "metadata": {
    "papermill": {
     "duration": 0.005072,
     "end_time": "2022-10-27T04:00:19.137392",
     "exception": false,
     "start_time": "2022-10-27T04:00:19.132320",
     "status": "completed"
    },
    "tags": []
   },
   "source": [
    "# 8/ Make Predictions"
   ]
  },
  {
   "cell_type": "code",
   "execution_count": 10,
   "id": "d3a380e6",
   "metadata": {
    "execution": {
     "iopub.execute_input": "2022-10-27T04:00:19.150461Z",
     "iopub.status.busy": "2022-10-27T04:00:19.149157Z",
     "iopub.status.idle": "2022-10-27T04:00:19.154463Z",
     "shell.execute_reply": "2022-10-27T04:00:19.153394Z"
    },
    "papermill": {
     "duration": 0.014217,
     "end_time": "2022-10-27T04:00:19.156869",
     "exception": false,
     "start_time": "2022-10-27T04:00:19.142652",
     "status": "completed"
    },
    "tags": []
   },
   "outputs": [],
   "source": [
    "# Write a code to make predicitions on X_train data\n",
    "# y_train_predicted = \n",
    "\n",
    "# Write a code to make predicitions on X_test data\n",
    "# y_test_predicted = "
   ]
  },
  {
   "cell_type": "markdown",
   "id": "a2e65b6b",
   "metadata": {
    "papermill": {
     "duration": 0.005211,
     "end_time": "2022-10-27T04:00:19.167934",
     "exception": false,
     "start_time": "2022-10-27T04:00:19.162723",
     "status": "completed"
    },
    "tags": []
   },
   "source": [
    "# 9/ Calculate Performance Metrics"
   ]
  },
  {
   "cell_type": "code",
   "execution_count": 11,
   "id": "0ac44531",
   "metadata": {
    "execution": {
     "iopub.execute_input": "2022-10-27T04:00:19.180879Z",
     "iopub.status.busy": "2022-10-27T04:00:19.180026Z",
     "iopub.status.idle": "2022-10-27T04:00:19.185678Z",
     "shell.execute_reply": "2022-10-27T04:00:19.184527Z"
    },
    "papermill": {
     "duration": 0.014817,
     "end_time": "2022-10-27T04:00:19.188241",
     "exception": false,
     "start_time": "2022-10-27T04:00:19.173424",
     "status": "completed"
    },
    "tags": []
   },
   "outputs": [],
   "source": [
    "# Write a code to get the classification report (Train) for checking the performance\n"
   ]
  },
  {
   "cell_type": "code",
   "execution_count": 12,
   "id": "51e266ef",
   "metadata": {
    "execution": {
     "iopub.execute_input": "2022-10-27T04:00:19.201342Z",
     "iopub.status.busy": "2022-10-27T04:00:19.200909Z",
     "iopub.status.idle": "2022-10-27T04:00:19.206237Z",
     "shell.execute_reply": "2022-10-27T04:00:19.204894Z"
    },
    "papermill": {
     "duration": 0.015404,
     "end_time": "2022-10-27T04:00:19.209408",
     "exception": false,
     "start_time": "2022-10-27T04:00:19.194004",
     "status": "completed"
    },
    "tags": []
   },
   "outputs": [],
   "source": [
    "# Write a code to get the classification report (Test) for checking the performance\n"
   ]
  },
  {
   "cell_type": "markdown",
   "id": "901a12e8",
   "metadata": {
    "papermill": {
     "duration": 0.005862,
     "end_time": "2022-10-27T04:00:19.220853",
     "exception": false,
     "start_time": "2022-10-27T04:00:19.214991",
     "status": "completed"
    },
    "tags": []
   },
   "source": [
    "# Did you overfit the model? - If so how can you say you have overfitted?"
   ]
  }
 ],
 "metadata": {
  "kernelspec": {
   "display_name": "Python 3",
   "language": "python",
   "name": "python3"
  },
  "language_info": {
   "codemirror_mode": {
    "name": "ipython",
    "version": 3
   },
   "file_extension": ".py",
   "mimetype": "text/x-python",
   "name": "python",
   "nbconvert_exporter": "python",
   "pygments_lexer": "ipython3",
   "version": "3.7.12"
  },
  "papermill": {
   "default_parameters": {},
   "duration": 10.15623,
   "end_time": "2022-10-27T04:00:19.949158",
   "environment_variables": {},
   "exception": null,
   "input_path": "__notebook__.ipynb",
   "output_path": "__notebook__.ipynb",
   "parameters": {},
   "start_time": "2022-10-27T04:00:09.792928",
   "version": "2.3.4"
  }
 },
 "nbformat": 4,
 "nbformat_minor": 5
}

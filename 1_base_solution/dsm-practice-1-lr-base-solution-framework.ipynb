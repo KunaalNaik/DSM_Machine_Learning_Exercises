{
 "cells": [
  {
   "cell_type": "markdown",
   "id": "1716932c",
   "metadata": {
    "papermill": {
     "duration": 0.006444,
     "end_time": "2022-10-27T03:58:19.832142",
     "exception": false,
     "start_time": "2022-10-27T03:58:19.825698",
     "status": "completed"
    },
    "tags": []
   },
   "source": [
    "<a href=\"https://www.kaggle.com/code/funxexcel/p1-lr-base-solution-framework?scriptVersionId=109244171\" target=\"_blank\"><img align=\"left\" alt=\"Kaggle\" title=\"Open in Kaggle\" src=\"https://kaggle.com/static/images/open-in-kaggle.svg\"></a>"
   ]
  },
  {
   "cell_type": "markdown",
   "id": "d9dcdf99",
   "metadata": {
    "papermill": {
     "duration": 0.004956,
     "end_time": "2022-10-27T03:58:19.842619",
     "exception": false,
     "start_time": "2022-10-27T03:58:19.837663",
     "status": "completed"
    },
    "tags": []
   },
   "source": [
    "# Logistic Regression Base Solution Framework\n",
    "- 1/ Import Libraries\n",
    "- 2/ Import Data - train data(multiple), test data, combo of data( linked with ID )\n",
    "    - CSV (Delimited), Excel, Server(SQL Server, SQL, Oracle, Azure, AWS), JSON\n",
    "- 3/ 3/ Check Features (columns) and their Data Types\n",
    "- 4/ Split columns - into X and y \n",
    "- 5/ Split Data into train & test\n",
    "- 6/ Data Transformation\n",
    "    - Encoding Categorical Columns - Dummy *\n",
    "    - Numerical Transformation (not compulsary)\n",
    "- 7/ Build Model (train data) - Logistic Regression\n",
    "    - 1/ Initiation an Instance\n",
    "    - 2/ Fit Model - X_train, y_train\n",
    "- 8/ Make Predictions\n",
    "    - Predict y for Train Data (Bias)\n",
    "    - Predict y for Test Data (Variance)\n",
    "- 9/ Calculate Performance Metrics\n",
    "    - Accuracy\n",
    "    - ROC AUC Curve\n",
    "    - F1 Score"
   ]
  },
  {
   "cell_type": "markdown",
   "id": "b9323bbd",
   "metadata": {
    "papermill": {
     "duration": 0.004939,
     "end_time": "2022-10-27T03:58:19.852800",
     "exception": false,
     "start_time": "2022-10-27T03:58:19.847861",
     "status": "completed"
    },
    "tags": []
   },
   "source": [
    "# 1/ Import libraries"
   ]
  },
  {
   "cell_type": "code",
   "execution_count": 1,
   "id": "8b4cce20",
   "metadata": {
    "execution": {
     "iopub.execute_input": "2022-10-27T03:58:19.865335Z",
     "iopub.status.busy": "2022-10-27T03:58:19.864802Z",
     "iopub.status.idle": "2022-10-27T03:58:19.871648Z",
     "shell.execute_reply": "2022-10-27T03:58:19.870307Z"
    },
    "papermill": {
     "duration": 0.016094,
     "end_time": "2022-10-27T03:58:19.874090",
     "exception": false,
     "start_time": "2022-10-27T03:58:19.857996",
     "status": "completed"
    },
    "tags": []
   },
   "outputs": [],
   "source": [
    "# Write code to import numpy, pandas\n",
    "\n",
    "\n",
    "# Write code to import train test split method\n",
    "\n",
    "\n",
    "# Write code to import logistic regression model\n",
    "\n",
    "\n",
    "# Write code to import classfication report\n",
    "\n"
   ]
  },
  {
   "cell_type": "markdown",
   "id": "c4b9088b",
   "metadata": {
    "papermill": {
     "duration": 0.005058,
     "end_time": "2022-10-27T03:58:19.884556",
     "exception": false,
     "start_time": "2022-10-27T03:58:19.879498",
     "status": "completed"
    },
    "tags": []
   },
   "source": [
    "# 2/ Import Data"
   ]
  },
  {
   "cell_type": "code",
   "execution_count": 2,
   "id": "503ffb09",
   "metadata": {
    "execution": {
     "iopub.execute_input": "2022-10-27T03:58:19.898028Z",
     "iopub.status.busy": "2022-10-27T03:58:19.896866Z",
     "iopub.status.idle": "2022-10-27T03:58:19.901364Z",
     "shell.execute_reply": "2022-10-27T03:58:19.900465Z"
    },
    "papermill": {
     "duration": 0.013535,
     "end_time": "2022-10-27T03:58:19.903607",
     "exception": false,
     "start_time": "2022-10-27T03:58:19.890072",
     "status": "completed"
    },
    "tags": []
   },
   "outputs": [],
   "source": [
    "# Write a code to import train and test data\n",
    "# If test data - does not exist import only train data\n",
    "# train = "
   ]
  },
  {
   "cell_type": "markdown",
   "id": "f4d66fcf",
   "metadata": {
    "papermill": {
     "duration": 0.005182,
     "end_time": "2022-10-27T03:58:19.914517",
     "exception": false,
     "start_time": "2022-10-27T03:58:19.909335",
     "status": "completed"
    },
    "tags": []
   },
   "source": [
    "# 3/ Check Features (columns) and their Data Types"
   ]
  },
  {
   "cell_type": "code",
   "execution_count": 3,
   "id": "58f6cd5e",
   "metadata": {
    "execution": {
     "iopub.execute_input": "2022-10-27T03:58:19.929392Z",
     "iopub.status.busy": "2022-10-27T03:58:19.926950Z",
     "iopub.status.idle": "2022-10-27T03:58:19.933595Z",
     "shell.execute_reply": "2022-10-27T03:58:19.932391Z"
    },
    "papermill": {
     "duration": 0.01602,
     "end_time": "2022-10-27T03:58:19.935907",
     "exception": false,
     "start_time": "2022-10-27T03:58:19.919887",
     "status": "completed"
    },
    "tags": []
   },
   "outputs": [],
   "source": [
    "# Write a code to check the first 5 rows of the data\n"
   ]
  },
  {
   "cell_type": "code",
   "execution_count": 4,
   "id": "294c4f63",
   "metadata": {
    "execution": {
     "iopub.execute_input": "2022-10-27T03:58:19.950728Z",
     "iopub.status.busy": "2022-10-27T03:58:19.949967Z",
     "iopub.status.idle": "2022-10-27T03:58:19.954201Z",
     "shell.execute_reply": "2022-10-27T03:58:19.953427Z"
    },
    "papermill": {
     "duration": 0.013403,
     "end_time": "2022-10-27T03:58:19.956435",
     "exception": false,
     "start_time": "2022-10-27T03:58:19.943032",
     "status": "completed"
    },
    "tags": []
   },
   "outputs": [],
   "source": [
    "# Write a code to check the data type for each columns\n"
   ]
  },
  {
   "cell_type": "markdown",
   "id": "f19d8c92",
   "metadata": {
    "papermill": {
     "duration": 0.005046,
     "end_time": "2022-10-27T03:58:19.966866",
     "exception": false,
     "start_time": "2022-10-27T03:58:19.961820",
     "status": "completed"
    },
    "tags": []
   },
   "source": [
    "# 4/ Split columns into y and X datasets"
   ]
  },
  {
   "cell_type": "code",
   "execution_count": 5,
   "id": "e7737f7c",
   "metadata": {
    "execution": {
     "iopub.execute_input": "2022-10-27T03:58:19.979290Z",
     "iopub.status.busy": "2022-10-27T03:58:19.978837Z",
     "iopub.status.idle": "2022-10-27T03:58:19.983743Z",
     "shell.execute_reply": "2022-10-27T03:58:19.982551Z"
    },
    "papermill": {
     "duration": 0.013933,
     "end_time": "2022-10-27T03:58:19.986090",
     "exception": false,
     "start_time": "2022-10-27T03:58:19.972157",
     "status": "completed"
    },
    "tags": []
   },
   "outputs": [],
   "source": [
    "# Write code to hold target feature in y and all features except (ID features or features that hold unique values)\n",
    "# y = \n",
    "# X = "
   ]
  },
  {
   "cell_type": "markdown",
   "id": "c553851e",
   "metadata": {
    "papermill": {
     "duration": 0.005028,
     "end_time": "2022-10-27T03:58:19.996587",
     "exception": false,
     "start_time": "2022-10-27T03:58:19.991559",
     "status": "completed"
    },
    "tags": []
   },
   "source": [
    "# 5/ Split data into Train and Test split"
   ]
  },
  {
   "cell_type": "code",
   "execution_count": 6,
   "id": "888eb1d1",
   "metadata": {
    "execution": {
     "iopub.execute_input": "2022-10-27T03:58:20.009251Z",
     "iopub.status.busy": "2022-10-27T03:58:20.008822Z",
     "iopub.status.idle": "2022-10-27T03:58:20.013240Z",
     "shell.execute_reply": "2022-10-27T03:58:20.012117Z"
    },
    "papermill": {
     "duration": 0.013797,
     "end_time": "2022-10-27T03:58:20.015663",
     "exception": false,
     "start_time": "2022-10-27T03:58:20.001866",
     "status": "completed"
    },
    "tags": []
   },
   "outputs": [],
   "source": [
    "# Write a code to call the train_test_split function and partition y, X \n",
    "# into X_train, X_test, y_train, y_test\n",
    "# Do a 80% - 20% split\n",
    "# Use a random state of your choice\n"
   ]
  },
  {
   "cell_type": "markdown",
   "id": "9e5eca26",
   "metadata": {
    "papermill": {
     "duration": 0.005196,
     "end_time": "2022-10-27T03:58:20.026380",
     "exception": false,
     "start_time": "2022-10-27T03:58:20.021184",
     "status": "completed"
    },
    "tags": []
   },
   "source": [
    "# 6/ Data Transformation"
   ]
  },
  {
   "cell_type": "code",
   "execution_count": 7,
   "id": "bb2c06b5",
   "metadata": {
    "execution": {
     "iopub.execute_input": "2022-10-27T03:58:20.039978Z",
     "iopub.status.busy": "2022-10-27T03:58:20.039385Z",
     "iopub.status.idle": "2022-10-27T03:58:20.043629Z",
     "shell.execute_reply": "2022-10-27T03:58:20.042761Z"
    },
    "papermill": {
     "duration": 0.013686,
     "end_time": "2022-10-27T03:58:20.046010",
     "exception": false,
     "start_time": "2022-10-27T03:58:20.032324",
     "status": "completed"
    },
    "tags": []
   },
   "outputs": [],
   "source": [
    "# Write a code to get Dummy variables for X_train data \n",
    "\n",
    "\n",
    "# Write a code to get Dummy Variables for X_test data\n",
    "\n"
   ]
  },
  {
   "cell_type": "markdown",
   "id": "6dc6de8a",
   "metadata": {
    "papermill": {
     "duration": 0.005095,
     "end_time": "2022-10-27T03:58:20.056586",
     "exception": false,
     "start_time": "2022-10-27T03:58:20.051491",
     "status": "completed"
    },
    "tags": []
   },
   "source": [
    "# 7/ Build Model (train data) - Logistic Regression"
   ]
  },
  {
   "cell_type": "code",
   "execution_count": 8,
   "id": "e8ec7eb4",
   "metadata": {
    "execution": {
     "iopub.execute_input": "2022-10-27T03:58:20.069616Z",
     "iopub.status.busy": "2022-10-27T03:58:20.068921Z",
     "iopub.status.idle": "2022-10-27T03:58:20.074660Z",
     "shell.execute_reply": "2022-10-27T03:58:20.073514Z"
    },
    "papermill": {
     "duration": 0.014878,
     "end_time": "2022-10-27T03:58:20.076941",
     "exception": false,
     "start_time": "2022-10-27T03:58:20.062063",
     "status": "completed"
    },
    "tags": []
   },
   "outputs": [],
   "source": [
    "# Write a code to create an Intance of Logistic Regression\n",
    "\n"
   ]
  },
  {
   "cell_type": "code",
   "execution_count": 9,
   "id": "6145dc9e",
   "metadata": {
    "execution": {
     "iopub.execute_input": "2022-10-27T03:58:20.089594Z",
     "iopub.status.busy": "2022-10-27T03:58:20.089124Z",
     "iopub.status.idle": "2022-10-27T03:58:20.094581Z",
     "shell.execute_reply": "2022-10-27T03:58:20.093159Z"
    },
    "papermill": {
     "duration": 0.014455,
     "end_time": "2022-10-27T03:58:20.096872",
     "exception": false,
     "start_time": "2022-10-27T03:58:20.082417",
     "status": "completed"
    },
    "tags": []
   },
   "outputs": [],
   "source": [
    "# Write a code to Fit Logistic Regression\n",
    "\n"
   ]
  },
  {
   "cell_type": "markdown",
   "id": "5f55f4f1",
   "metadata": {
    "papermill": {
     "duration": 0.005359,
     "end_time": "2022-10-27T03:58:20.107798",
     "exception": false,
     "start_time": "2022-10-27T03:58:20.102439",
     "status": "completed"
    },
    "tags": []
   },
   "source": [
    "# 8/ Make Predictions"
   ]
  },
  {
   "cell_type": "code",
   "execution_count": 10,
   "id": "70c83c6a",
   "metadata": {
    "execution": {
     "iopub.execute_input": "2022-10-27T03:58:20.120737Z",
     "iopub.status.busy": "2022-10-27T03:58:20.120319Z",
     "iopub.status.idle": "2022-10-27T03:58:20.124943Z",
     "shell.execute_reply": "2022-10-27T03:58:20.123688Z"
    },
    "papermill": {
     "duration": 0.013888,
     "end_time": "2022-10-27T03:58:20.127162",
     "exception": false,
     "start_time": "2022-10-27T03:58:20.113274",
     "status": "completed"
    },
    "tags": []
   },
   "outputs": [],
   "source": [
    "# Write a code to make predicitions on X_train data\n",
    "# y_train_predicted = \n",
    "\n",
    "# Write a code to make predicitions on X_test data\n",
    "# y_test_predicted = "
   ]
  },
  {
   "cell_type": "markdown",
   "id": "c70da5a0",
   "metadata": {
    "papermill": {
     "duration": 0.005052,
     "end_time": "2022-10-27T03:58:20.137650",
     "exception": false,
     "start_time": "2022-10-27T03:58:20.132598",
     "status": "completed"
    },
    "tags": []
   },
   "source": [
    "# 9/ Calculate Performance Metrics"
   ]
  },
  {
   "cell_type": "code",
   "execution_count": 11,
   "id": "46d59146",
   "metadata": {
    "execution": {
     "iopub.execute_input": "2022-10-27T03:58:20.150279Z",
     "iopub.status.busy": "2022-10-27T03:58:20.149869Z",
     "iopub.status.idle": "2022-10-27T03:58:20.154576Z",
     "shell.execute_reply": "2022-10-27T03:58:20.153206Z"
    },
    "papermill": {
     "duration": 0.013952,
     "end_time": "2022-10-27T03:58:20.156973",
     "exception": false,
     "start_time": "2022-10-27T03:58:20.143021",
     "status": "completed"
    },
    "tags": []
   },
   "outputs": [],
   "source": [
    "# Write a code to get the classification report (Train) for checking the performance\n"
   ]
  },
  {
   "cell_type": "code",
   "execution_count": 12,
   "id": "26fb351d",
   "metadata": {
    "execution": {
     "iopub.execute_input": "2022-10-27T03:58:20.169672Z",
     "iopub.status.busy": "2022-10-27T03:58:20.169239Z",
     "iopub.status.idle": "2022-10-27T03:58:20.174113Z",
     "shell.execute_reply": "2022-10-27T03:58:20.172886Z"
    },
    "papermill": {
     "duration": 0.014226,
     "end_time": "2022-10-27T03:58:20.176576",
     "exception": false,
     "start_time": "2022-10-27T03:58:20.162350",
     "status": "completed"
    },
    "tags": []
   },
   "outputs": [],
   "source": [
    "# Write a code to get the classification report (Test) for checking the performance\n"
   ]
  },
  {
   "cell_type": "markdown",
   "id": "0cdafcb9",
   "metadata": {
    "papermill": {
     "duration": 0.005078,
     "end_time": "2022-10-27T03:58:20.186932",
     "exception": false,
     "start_time": "2022-10-27T03:58:20.181854",
     "status": "completed"
    },
    "tags": []
   },
   "source": [
    "# Did you overfit the model? - If so how can you say you have overfitted?"
   ]
  }
 ],
 "metadata": {
  "kernelspec": {
   "display_name": "Python 3",
   "language": "python",
   "name": "python3"
  },
  "language_info": {
   "codemirror_mode": {
    "name": "ipython",
    "version": 3
   },
   "file_extension": ".py",
   "mimetype": "text/x-python",
   "name": "python",
   "nbconvert_exporter": "python",
   "pygments_lexer": "ipython3",
   "version": "3.7.12"
  },
  "papermill": {
   "default_parameters": {},
   "duration": 12.054981,
   "end_time": "2022-10-27T03:58:20.914405",
   "environment_variables": {},
   "exception": null,
   "input_path": "__notebook__.ipynb",
   "output_path": "__notebook__.ipynb",
   "parameters": {},
   "start_time": "2022-10-27T03:58:08.859424",
   "version": "2.3.4"
  }
 },
 "nbformat": 4,
 "nbformat_minor": 5
}
